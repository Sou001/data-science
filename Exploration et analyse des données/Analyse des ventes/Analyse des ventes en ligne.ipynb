{
 "cells": [
  {
   "cell_type": "markdown",
   "id": "d05e8e87",
   "metadata": {},
   "source": [
    "# Révision - Analyse de données sur les ventes d'une librairie"
   ]
  },
  {
   "cell_type": "markdown",
   "id": "1d79aebc",
   "metadata": {},
   "source": [
    "# 0 - contexte et objectifs"
   ]
  },
  {
   "cell_type": "markdown",
   "id": "883fcb72",
   "metadata": {},
   "source": [
    "Vous travaillez au service marketing de Lapage, une grande librairie généraliste en ligne.\n",
    "\n",
    "Lapage était originellement une librairie physique avec plusieurs points de vente. \n",
    "Mais devant le succès de certains de ses produits et l’engouement de ses clients, \n",
    "elle a décidé depuis 2 ans d’ouvrir un site de vente en ligne. Vous intervenez car l’entreprise souhaite faire le point : analyser ses points forts, ses points faibles, les comportements clients, etc. Par exemple, elle cherche à savoir si elle doit créer certaines offres, adapter certains prix, etc.\n",
    "\n",
    "On vous demande de faire une analyse en deux parties :\n",
    "\n",
    "#### Partie I - analyse des différents indicateurs généraux\n",
    "\n",
    "    * Construire des indicateurs et graphiques autour du chiffre d'affaires. Rregarder l’évolution dans le temps\n",
    "    * Faire un zoom sur les références, pour voir les tops et les flops, la répartition par catégorie, etc.\n",
    "    * Etudier les profils des clients, et également la répartition du chiffre d'affaires entre eux\n",
    "\n",
    "#### Partie II - comportement des clients l’objectif est cette fois-ci de comprendre le comportement des clients en ligne.\n",
    "\n",
    "    * étudier le lien entre le genre d’un client et les catégories des livres achetés\n",
    "    * étudier ensuite le lien entre l’âge des clients et le montant total des achats, la fréquence d’achat, la taille du panier moyen et les catégories des livres achetés.\n",
    "\n"
   ]
  },
  {
   "cell_type": "markdown",
   "id": "9146b256",
   "metadata": {},
   "source": [
    "# 1 - Exploration et  nettoyage des données "
   ]
  },
  {
   "cell_type": "code",
   "execution_count": 1,
   "id": "175279ef",
   "metadata": {},
   "outputs": [],
   "source": [
    "# Import de la librairie Pandas\n",
    "import pandas as pd\n",
    "\n",
    "# Import de la librairie matplotlib\n",
    "import matplotlib.pyplot as plt"
   ]
  },
  {
   "cell_type": "markdown",
   "id": "ad56f18f",
   "metadata": {},
   "source": [
    "## 1.1 - Chargement des données"
   ]
  },
  {
   "cell_type": "markdown",
   "id": "8f14079e",
   "metadata": {},
   "source": [
    "Si vous utilisez anaconda -> je vous conseille de mettre les fichiers csv dans le même répertoire que le notebook\n",
    "\n",
    "Si vous utilisez google colab ->  il faut exécuter le code ci-dessous : \n",
    "\n",
    "''' \n",
    "\n",
    "from google.colab import files\n",
    "\n",
    "data_to_load = files.upload()\n",
    "\n",
    "'''"
   ]
  },
  {
   "cell_type": "markdown",
   "id": "1637f458",
   "metadata": {},
   "source": [
    "### 1.1.1 - customers"
   ]
  },
  {
   "cell_type": "code",
   "execution_count": 2,
   "id": "0675c090",
   "metadata": {},
   "outputs": [],
   "source": [
    "# Ouverture du fichier\n",
    "customers = pd.read_csv('dataset/customers.csv')"
   ]
  },
  {
   "cell_type": "code",
   "execution_count": 3,
   "id": "b70295b7",
   "metadata": {},
   "outputs": [
    {
     "name": "stdout",
     "output_type": "stream",
     "text": [
      "<class 'pandas.core.frame.DataFrame'>\n",
      "RangeIndex: 8623 entries, 0 to 8622\n",
      "Data columns (total 3 columns):\n",
      " #   Column     Non-Null Count  Dtype \n",
      "---  ------     --------------  ----- \n",
      " 0   client_id  8623 non-null   object\n",
      " 1   sex        8623 non-null   object\n",
      " 2   birth      8623 non-null   int64 \n",
      "dtypes: int64(1), object(2)\n",
      "memory usage: 202.2+ KB\n"
     ]
    }
   ],
   "source": [
    "# Affichage des informations \n",
    "customers.info()"
   ]
  },
  {
   "cell_type": "code",
   "execution_count": 4,
   "id": "32c566cc",
   "metadata": {},
   "outputs": [
    {
     "data": {
      "text/html": [
       "<div>\n",
       "<style scoped>\n",
       "    .dataframe tbody tr th:only-of-type {\n",
       "        vertical-align: middle;\n",
       "    }\n",
       "\n",
       "    .dataframe tbody tr th {\n",
       "        vertical-align: top;\n",
       "    }\n",
       "\n",
       "    .dataframe thead th {\n",
       "        text-align: right;\n",
       "    }\n",
       "</style>\n",
       "<table border=\"1\" class=\"dataframe\">\n",
       "  <thead>\n",
       "    <tr style=\"text-align: right;\">\n",
       "      <th></th>\n",
       "      <th>client_id</th>\n",
       "      <th>sex</th>\n",
       "      <th>birth</th>\n",
       "    </tr>\n",
       "  </thead>\n",
       "  <tbody>\n",
       "    <tr>\n",
       "      <th>0</th>\n",
       "      <td>c_4410</td>\n",
       "      <td>f</td>\n",
       "      <td>1967</td>\n",
       "    </tr>\n",
       "    <tr>\n",
       "      <th>1</th>\n",
       "      <td>c_7839</td>\n",
       "      <td>f</td>\n",
       "      <td>1975</td>\n",
       "    </tr>\n",
       "    <tr>\n",
       "      <th>2</th>\n",
       "      <td>c_1699</td>\n",
       "      <td>f</td>\n",
       "      <td>1984</td>\n",
       "    </tr>\n",
       "    <tr>\n",
       "      <th>3</th>\n",
       "      <td>c_5961</td>\n",
       "      <td>f</td>\n",
       "      <td>1962</td>\n",
       "    </tr>\n",
       "    <tr>\n",
       "      <th>4</th>\n",
       "      <td>c_5320</td>\n",
       "      <td>m</td>\n",
       "      <td>1943</td>\n",
       "    </tr>\n",
       "  </tbody>\n",
       "</table>\n",
       "</div>"
      ],
      "text/plain": [
       "  client_id sex  birth\n",
       "0    c_4410   f   1967\n",
       "1    c_7839   f   1975\n",
       "2    c_1699   f   1984\n",
       "3    c_5961   f   1962\n",
       "4    c_5320   m   1943"
      ]
     },
     "execution_count": 4,
     "metadata": {},
     "output_type": "execute_result"
    }
   ],
   "source": [
    "# Affichage des premières lignes\n",
    "customers.head()"
   ]
  },
  {
   "cell_type": "code",
   "execution_count": 5,
   "id": "c762e175",
   "metadata": {},
   "outputs": [
    {
     "data": {
      "text/html": [
       "<div>\n",
       "<style scoped>\n",
       "    .dataframe tbody tr th:only-of-type {\n",
       "        vertical-align: middle;\n",
       "    }\n",
       "\n",
       "    .dataframe tbody tr th {\n",
       "        vertical-align: top;\n",
       "    }\n",
       "\n",
       "    .dataframe thead th {\n",
       "        text-align: right;\n",
       "    }\n",
       "</style>\n",
       "<table border=\"1\" class=\"dataframe\">\n",
       "  <thead>\n",
       "    <tr style=\"text-align: right;\">\n",
       "      <th></th>\n",
       "      <th>client_id</th>\n",
       "      <th>sex</th>\n",
       "      <th>birth</th>\n",
       "    </tr>\n",
       "  </thead>\n",
       "  <tbody>\n",
       "    <tr>\n",
       "      <th>count</th>\n",
       "      <td>8623</td>\n",
       "      <td>8623</td>\n",
       "      <td>8623.000000</td>\n",
       "    </tr>\n",
       "    <tr>\n",
       "      <th>unique</th>\n",
       "      <td>8623</td>\n",
       "      <td>2</td>\n",
       "      <td>NaN</td>\n",
       "    </tr>\n",
       "    <tr>\n",
       "      <th>top</th>\n",
       "      <td>c_4410</td>\n",
       "      <td>f</td>\n",
       "      <td>NaN</td>\n",
       "    </tr>\n",
       "    <tr>\n",
       "      <th>freq</th>\n",
       "      <td>1</td>\n",
       "      <td>4491</td>\n",
       "      <td>NaN</td>\n",
       "    </tr>\n",
       "    <tr>\n",
       "      <th>mean</th>\n",
       "      <td>NaN</td>\n",
       "      <td>NaN</td>\n",
       "      <td>1978.280877</td>\n",
       "    </tr>\n",
       "    <tr>\n",
       "      <th>std</th>\n",
       "      <td>NaN</td>\n",
       "      <td>NaN</td>\n",
       "      <td>16.919535</td>\n",
       "    </tr>\n",
       "    <tr>\n",
       "      <th>min</th>\n",
       "      <td>NaN</td>\n",
       "      <td>NaN</td>\n",
       "      <td>1929.000000</td>\n",
       "    </tr>\n",
       "    <tr>\n",
       "      <th>25%</th>\n",
       "      <td>NaN</td>\n",
       "      <td>NaN</td>\n",
       "      <td>1966.000000</td>\n",
       "    </tr>\n",
       "    <tr>\n",
       "      <th>50%</th>\n",
       "      <td>NaN</td>\n",
       "      <td>NaN</td>\n",
       "      <td>1979.000000</td>\n",
       "    </tr>\n",
       "    <tr>\n",
       "      <th>75%</th>\n",
       "      <td>NaN</td>\n",
       "      <td>NaN</td>\n",
       "      <td>1992.000000</td>\n",
       "    </tr>\n",
       "    <tr>\n",
       "      <th>max</th>\n",
       "      <td>NaN</td>\n",
       "      <td>NaN</td>\n",
       "      <td>2004.000000</td>\n",
       "    </tr>\n",
       "  </tbody>\n",
       "</table>\n",
       "</div>"
      ],
      "text/plain": [
       "       client_id   sex        birth\n",
       "count       8623  8623  8623.000000\n",
       "unique      8623     2          NaN\n",
       "top       c_4410     f          NaN\n",
       "freq           1  4491          NaN\n",
       "mean         NaN   NaN  1978.280877\n",
       "std          NaN   NaN    16.919535\n",
       "min          NaN   NaN  1929.000000\n",
       "25%          NaN   NaN  1966.000000\n",
       "50%          NaN   NaN  1979.000000\n",
       "75%          NaN   NaN  1992.000000\n",
       "max          NaN   NaN  2004.000000"
      ]
     },
     "execution_count": 5,
     "metadata": {},
     "output_type": "execute_result"
    }
   ],
   "source": [
    "# Stats du dataframe\n",
    "customers.describe(include = 'all')"
   ]
  },
  {
   "cell_type": "markdown",
   "id": "1df024eb",
   "metadata": {},
   "source": [
    "Ce fichier comprend 3 colonnes :\n",
    "\n",
    "    Client_id : référence de chaque client\n",
    "    Sex : le genre du client\n",
    "    Birth : l'année de naissance du client\n",
    "\n"
   ]
  },
  {
   "cell_type": "code",
   "execution_count": 6,
   "id": "a34dc864",
   "metadata": {},
   "outputs": [
    {
     "data": {
      "text/plain": [
       "client_id    0.0\n",
       "sex          0.0\n",
       "birth        0.0\n",
       "dtype: float64"
      ]
     },
     "execution_count": 6,
     "metadata": {},
     "output_type": "execute_result"
    }
   ],
   "source": [
    "#valeurs manquantes\n",
    "customers.isna().mean()"
   ]
  },
  {
   "cell_type": "code",
   "execution_count": 7,
   "id": "3f7fc887",
   "metadata": {},
   "outputs": [
    {
     "data": {
      "text/plain": [
       "0"
      ]
     },
     "execution_count": 7,
     "metadata": {},
     "output_type": "execute_result"
    }
   ],
   "source": [
    "#Doublon\n",
    "customers.duplicated().sum()"
   ]
  },
  {
   "cell_type": "code",
   "execution_count": 8,
   "id": "2872a8ed",
   "metadata": {},
   "outputs": [
    {
     "name": "stdout",
     "output_type": "stream",
     "text": [
      "Il y a 8623 clients uniques\n"
     ]
    }
   ],
   "source": [
    "print(\"Il y a\", customers.describe(include = 'all').loc[\"unique\",\"client_id\"], \"clients uniques\")"
   ]
  },
  {
   "cell_type": "code",
   "execution_count": 9,
   "id": "1a52e201",
   "metadata": {},
   "outputs": [
    {
     "name": "stdout",
     "output_type": "stream",
     "text": [
      "L'age moyen est : 44 ans\n"
     ]
    }
   ],
   "source": [
    "print(\"L'age moyen est :\", 2022- round(customers.describe(include = 'all').loc[\"mean\",\"birth\"]), \"ans\")"
   ]
  },
  {
   "cell_type": "code",
   "execution_count": 10,
   "id": "655e1894",
   "metadata": {},
   "outputs": [
    {
     "name": "stdout",
     "output_type": "stream",
     "text": [
      "La part des femmes : 0.52 %\n"
     ]
    }
   ],
   "source": [
    "print(\"La part des femmes :\", round(customers.describe(include = 'all').loc[\"freq\",\"sex\"] / \n",
    "      customers.describe(include = 'all').loc[\"count\",\"sex\"],2), \"%\")"
   ]
  },
  {
   "cell_type": "code",
   "execution_count": 11,
   "id": "9895c806",
   "metadata": {},
   "outputs": [
    {
     "data": {
      "text/html": [
       "<div>\n",
       "<style scoped>\n",
       "    .dataframe tbody tr th:only-of-type {\n",
       "        vertical-align: middle;\n",
       "    }\n",
       "\n",
       "    .dataframe tbody tr th {\n",
       "        vertical-align: top;\n",
       "    }\n",
       "\n",
       "    .dataframe thead th {\n",
       "        text-align: right;\n",
       "    }\n",
       "</style>\n",
       "<table border=\"1\" class=\"dataframe\">\n",
       "  <thead>\n",
       "    <tr style=\"text-align: right;\">\n",
       "      <th></th>\n",
       "      <th>birth</th>\n",
       "    </tr>\n",
       "    <tr>\n",
       "      <th>sex</th>\n",
       "      <th></th>\n",
       "    </tr>\n",
       "  </thead>\n",
       "  <tbody>\n",
       "    <tr>\n",
       "      <th>f</th>\n",
       "      <td>44.005121</td>\n",
       "    </tr>\n",
       "    <tr>\n",
       "      <th>m</th>\n",
       "      <td>43.408277</td>\n",
       "    </tr>\n",
       "  </tbody>\n",
       "</table>\n",
       "</div>"
      ],
      "text/plain": [
       "         birth\n",
       "sex           \n",
       "f    44.005121\n",
       "m    43.408277"
      ]
     },
     "execution_count": 11,
     "metadata": {},
     "output_type": "execute_result"
    }
   ],
   "source": [
    "#calculons l'age moyen par sexe \n",
    "2022 - customers.groupby(\"sex\").mean()"
   ]
  },
  {
   "cell_type": "markdown",
   "id": "9c0bb77f",
   "metadata": {},
   "source": [
    "Le fichier customers n'a pas de valeurs nulles ni de doublons.\n"
   ]
  },
  {
   "cell_type": "markdown",
   "id": "4df0f0dd",
   "metadata": {},
   "source": [
    "### 1.1.2 - products"
   ]
  },
  {
   "cell_type": "code",
   "execution_count": 12,
   "id": "4570005d",
   "metadata": {},
   "outputs": [],
   "source": [
    "# Ouverture du fichier\n",
    "products = pd.read_csv('dataset/products.csv')"
   ]
  },
  {
   "cell_type": "code",
   "execution_count": 13,
   "id": "c4bf4674",
   "metadata": {},
   "outputs": [
    {
     "name": "stdout",
     "output_type": "stream",
     "text": [
      "<class 'pandas.core.frame.DataFrame'>\n",
      "RangeIndex: 3287 entries, 0 to 3286\n",
      "Data columns (total 3 columns):\n",
      " #   Column   Non-Null Count  Dtype  \n",
      "---  ------   --------------  -----  \n",
      " 0   id_prod  3287 non-null   object \n",
      " 1   price    3287 non-null   float64\n",
      " 2   categ    3287 non-null   int64  \n",
      "dtypes: float64(1), int64(1), object(1)\n",
      "memory usage: 77.2+ KB\n"
     ]
    }
   ],
   "source": [
    "# Affichage des informations \n",
    "products.info()"
   ]
  },
  {
   "cell_type": "code",
   "execution_count": 14,
   "id": "a2b7eb2f",
   "metadata": {},
   "outputs": [
    {
     "data": {
      "text/html": [
       "<div>\n",
       "<style scoped>\n",
       "    .dataframe tbody tr th:only-of-type {\n",
       "        vertical-align: middle;\n",
       "    }\n",
       "\n",
       "    .dataframe tbody tr th {\n",
       "        vertical-align: top;\n",
       "    }\n",
       "\n",
       "    .dataframe thead th {\n",
       "        text-align: right;\n",
       "    }\n",
       "</style>\n",
       "<table border=\"1\" class=\"dataframe\">\n",
       "  <thead>\n",
       "    <tr style=\"text-align: right;\">\n",
       "      <th></th>\n",
       "      <th>id_prod</th>\n",
       "      <th>price</th>\n",
       "      <th>categ</th>\n",
       "    </tr>\n",
       "  </thead>\n",
       "  <tbody>\n",
       "    <tr>\n",
       "      <th>0</th>\n",
       "      <td>0_1421</td>\n",
       "      <td>19.99</td>\n",
       "      <td>0</td>\n",
       "    </tr>\n",
       "    <tr>\n",
       "      <th>1</th>\n",
       "      <td>0_1368</td>\n",
       "      <td>5.13</td>\n",
       "      <td>0</td>\n",
       "    </tr>\n",
       "    <tr>\n",
       "      <th>2</th>\n",
       "      <td>0_731</td>\n",
       "      <td>17.99</td>\n",
       "      <td>0</td>\n",
       "    </tr>\n",
       "    <tr>\n",
       "      <th>3</th>\n",
       "      <td>1_587</td>\n",
       "      <td>4.99</td>\n",
       "      <td>1</td>\n",
       "    </tr>\n",
       "    <tr>\n",
       "      <th>4</th>\n",
       "      <td>0_1507</td>\n",
       "      <td>3.99</td>\n",
       "      <td>0</td>\n",
       "    </tr>\n",
       "  </tbody>\n",
       "</table>\n",
       "</div>"
      ],
      "text/plain": [
       "  id_prod  price  categ\n",
       "0  0_1421  19.99      0\n",
       "1  0_1368   5.13      0\n",
       "2   0_731  17.99      0\n",
       "3   1_587   4.99      1\n",
       "4  0_1507   3.99      0"
      ]
     },
     "execution_count": 14,
     "metadata": {},
     "output_type": "execute_result"
    }
   ],
   "source": [
    "# Affichage des premières lignes\n",
    "products.head()"
   ]
  },
  {
   "cell_type": "code",
   "execution_count": 15,
   "id": "d2cacfe2",
   "metadata": {},
   "outputs": [
    {
     "data": {
      "text/plain": [
       "id_prod    0.0\n",
       "price      0.0\n",
       "categ      0.0\n",
       "dtype: float64"
      ]
     },
     "execution_count": 15,
     "metadata": {},
     "output_type": "execute_result"
    }
   ],
   "source": [
    "#valeurs manquantes\n",
    "products.isna().mean()"
   ]
  },
  {
   "cell_type": "code",
   "execution_count": 16,
   "id": "effe60a8",
   "metadata": {},
   "outputs": [
    {
     "data": {
      "text/plain": [
       "0"
      ]
     },
     "execution_count": 16,
     "metadata": {},
     "output_type": "execute_result"
    }
   ],
   "source": [
    "#Doublon\n",
    "products.duplicated().sum()"
   ]
  },
  {
   "cell_type": "code",
   "execution_count": 17,
   "id": "6bbcf49b",
   "metadata": {},
   "outputs": [
    {
     "data": {
      "text/html": [
       "<div>\n",
       "<style scoped>\n",
       "    .dataframe tbody tr th:only-of-type {\n",
       "        vertical-align: middle;\n",
       "    }\n",
       "\n",
       "    .dataframe tbody tr th {\n",
       "        vertical-align: top;\n",
       "    }\n",
       "\n",
       "    .dataframe thead th {\n",
       "        text-align: right;\n",
       "    }\n",
       "</style>\n",
       "<table border=\"1\" class=\"dataframe\">\n",
       "  <thead>\n",
       "    <tr style=\"text-align: right;\">\n",
       "      <th></th>\n",
       "      <th>id_prod</th>\n",
       "      <th>price</th>\n",
       "      <th>categ</th>\n",
       "    </tr>\n",
       "  </thead>\n",
       "  <tbody>\n",
       "    <tr>\n",
       "      <th>count</th>\n",
       "      <td>3287</td>\n",
       "      <td>3287.000000</td>\n",
       "      <td>3287.000000</td>\n",
       "    </tr>\n",
       "    <tr>\n",
       "      <th>unique</th>\n",
       "      <td>3287</td>\n",
       "      <td>NaN</td>\n",
       "      <td>NaN</td>\n",
       "    </tr>\n",
       "    <tr>\n",
       "      <th>top</th>\n",
       "      <td>0_1421</td>\n",
       "      <td>NaN</td>\n",
       "      <td>NaN</td>\n",
       "    </tr>\n",
       "    <tr>\n",
       "      <th>freq</th>\n",
       "      <td>1</td>\n",
       "      <td>NaN</td>\n",
       "      <td>NaN</td>\n",
       "    </tr>\n",
       "    <tr>\n",
       "      <th>mean</th>\n",
       "      <td>NaN</td>\n",
       "      <td>21.856641</td>\n",
       "      <td>0.370246</td>\n",
       "    </tr>\n",
       "    <tr>\n",
       "      <th>std</th>\n",
       "      <td>NaN</td>\n",
       "      <td>29.847908</td>\n",
       "      <td>0.615387</td>\n",
       "    </tr>\n",
       "    <tr>\n",
       "      <th>min</th>\n",
       "      <td>NaN</td>\n",
       "      <td>-1.000000</td>\n",
       "      <td>0.000000</td>\n",
       "    </tr>\n",
       "    <tr>\n",
       "      <th>25%</th>\n",
       "      <td>NaN</td>\n",
       "      <td>6.990000</td>\n",
       "      <td>0.000000</td>\n",
       "    </tr>\n",
       "    <tr>\n",
       "      <th>50%</th>\n",
       "      <td>NaN</td>\n",
       "      <td>13.060000</td>\n",
       "      <td>0.000000</td>\n",
       "    </tr>\n",
       "    <tr>\n",
       "      <th>75%</th>\n",
       "      <td>NaN</td>\n",
       "      <td>22.990000</td>\n",
       "      <td>1.000000</td>\n",
       "    </tr>\n",
       "    <tr>\n",
       "      <th>max</th>\n",
       "      <td>NaN</td>\n",
       "      <td>300.000000</td>\n",
       "      <td>2.000000</td>\n",
       "    </tr>\n",
       "  </tbody>\n",
       "</table>\n",
       "</div>"
      ],
      "text/plain": [
       "       id_prod        price        categ\n",
       "count     3287  3287.000000  3287.000000\n",
       "unique    3287          NaN          NaN\n",
       "top     0_1421          NaN          NaN\n",
       "freq         1          NaN          NaN\n",
       "mean       NaN    21.856641     0.370246\n",
       "std        NaN    29.847908     0.615387\n",
       "min        NaN    -1.000000     0.000000\n",
       "25%        NaN     6.990000     0.000000\n",
       "50%        NaN    13.060000     0.000000\n",
       "75%        NaN    22.990000     1.000000\n",
       "max        NaN   300.000000     2.000000"
      ]
     },
     "execution_count": 17,
     "metadata": {},
     "output_type": "execute_result"
    }
   ],
   "source": [
    "# Stats du dataframe\n",
    "products.describe(include='all')"
   ]
  },
  {
   "cell_type": "markdown",
   "id": "d67e5368",
   "metadata": {},
   "source": [
    "Votre conclusion ?\n",
    "\n",
    "Le fichier products n'a ni de doublons ni de valeurs manquantes"
   ]
  },
  {
   "cell_type": "code",
   "execution_count": 20,
   "id": "afafac1a",
   "metadata": {},
   "outputs": [
    {
     "data": {
      "text/html": [
       "<div>\n",
       "<style scoped>\n",
       "    .dataframe tbody tr th:only-of-type {\n",
       "        vertical-align: middle;\n",
       "    }\n",
       "\n",
       "    .dataframe tbody tr th {\n",
       "        vertical-align: top;\n",
       "    }\n",
       "\n",
       "    .dataframe thead th {\n",
       "        text-align: right;\n",
       "    }\n",
       "</style>\n",
       "<table border=\"1\" class=\"dataframe\">\n",
       "  <thead>\n",
       "    <tr style=\"text-align: right;\">\n",
       "      <th></th>\n",
       "      <th>categ</th>\n",
       "      <th>mean_price</th>\n",
       "    </tr>\n",
       "  </thead>\n",
       "  <tbody>\n",
       "    <tr>\n",
       "      <th>0</th>\n",
       "      <td>0</td>\n",
       "      <td>11.727280</td>\n",
       "    </tr>\n",
       "    <tr>\n",
       "      <th>1</th>\n",
       "      <td>1</td>\n",
       "      <td>25.531421</td>\n",
       "    </tr>\n",
       "    <tr>\n",
       "      <th>2</th>\n",
       "      <td>2</td>\n",
       "      <td>108.354686</td>\n",
       "    </tr>\n",
       "  </tbody>\n",
       "</table>\n",
       "</div>"
      ],
      "text/plain": [
       "   categ  mean_price\n",
       "0      0   11.727280\n",
       "1      1   25.531421\n",
       "2      2  108.354686"
      ]
     },
     "execution_count": 20,
     "metadata": {},
     "output_type": "execute_result"
    }
   ],
   "source": [
    "# calculer le prix moyen des produits par catégorie\n",
    "mean_price_by_categ = products[[\"categ\",\"price\"]].groupby(\"categ\").mean().reset_index()\n",
    "mean_price_by_categ.columns=[\"categ\",\"mean_price\"]\n",
    "mean_price_by_categ"
   ]
  },
  {
   "cell_type": "markdown",
   "id": "a2460427",
   "metadata": {},
   "source": [
    "### 1.1.3 - transactions\n"
   ]
  },
  {
   "cell_type": "code",
   "execution_count": 21,
   "id": "f4b99c1a",
   "metadata": {},
   "outputs": [],
   "source": [
    "# Ouverture du fichier\n",
    "transactions = pd.read_csv('dataset/transactions.csv')"
   ]
  },
  {
   "cell_type": "code",
   "execution_count": 22,
   "id": "d7cebe83",
   "metadata": {},
   "outputs": [
    {
     "name": "stdout",
     "output_type": "stream",
     "text": [
      "<class 'pandas.core.frame.DataFrame'>\n",
      "RangeIndex: 679532 entries, 0 to 679531\n",
      "Data columns (total 4 columns):\n",
      " #   Column      Non-Null Count   Dtype \n",
      "---  ------      --------------   ----- \n",
      " 0   id_prod     679532 non-null  object\n",
      " 1   date        679532 non-null  object\n",
      " 2   session_id  679532 non-null  object\n",
      " 3   client_id   679532 non-null  object\n",
      "dtypes: object(4)\n",
      "memory usage: 20.7+ MB\n"
     ]
    }
   ],
   "source": [
    "# Affichage des informations \n",
    "transactions.info()"
   ]
  },
  {
   "cell_type": "code",
   "execution_count": 23,
   "id": "bc5185c2",
   "metadata": {},
   "outputs": [
    {
     "data": {
      "text/html": [
       "<div>\n",
       "<style scoped>\n",
       "    .dataframe tbody tr th:only-of-type {\n",
       "        vertical-align: middle;\n",
       "    }\n",
       "\n",
       "    .dataframe tbody tr th {\n",
       "        vertical-align: top;\n",
       "    }\n",
       "\n",
       "    .dataframe thead th {\n",
       "        text-align: right;\n",
       "    }\n",
       "</style>\n",
       "<table border=\"1\" class=\"dataframe\">\n",
       "  <thead>\n",
       "    <tr style=\"text-align: right;\">\n",
       "      <th></th>\n",
       "      <th>id_prod</th>\n",
       "      <th>date</th>\n",
       "      <th>session_id</th>\n",
       "      <th>client_id</th>\n",
       "    </tr>\n",
       "  </thead>\n",
       "  <tbody>\n",
       "    <tr>\n",
       "      <th>count</th>\n",
       "      <td>679532</td>\n",
       "      <td>679532</td>\n",
       "      <td>679532</td>\n",
       "      <td>679532</td>\n",
       "    </tr>\n",
       "    <tr>\n",
       "      <th>unique</th>\n",
       "      <td>3267</td>\n",
       "      <td>679371</td>\n",
       "      <td>342316</td>\n",
       "      <td>8602</td>\n",
       "    </tr>\n",
       "    <tr>\n",
       "      <th>top</th>\n",
       "      <td>1_369</td>\n",
       "      <td>test_2021-03-01 02:30:02.237413</td>\n",
       "      <td>s_0</td>\n",
       "      <td>c_1609</td>\n",
       "    </tr>\n",
       "    <tr>\n",
       "      <th>freq</th>\n",
       "      <td>2252</td>\n",
       "      <td>13</td>\n",
       "      <td>200</td>\n",
       "      <td>25488</td>\n",
       "    </tr>\n",
       "  </tbody>\n",
       "</table>\n",
       "</div>"
      ],
      "text/plain": [
       "       id_prod                             date session_id client_id\n",
       "count   679532                           679532     679532    679532\n",
       "unique    3267                           679371     342316      8602\n",
       "top      1_369  test_2021-03-01 02:30:02.237413        s_0    c_1609\n",
       "freq      2252                               13        200     25488"
      ]
     },
     "execution_count": 23,
     "metadata": {},
     "output_type": "execute_result"
    }
   ],
   "source": [
    "# Stats du dataframe\n",
    "transactions.describe(include='all')"
   ]
  },
  {
   "cell_type": "code",
   "execution_count": 24,
   "id": "d53d01bc",
   "metadata": {},
   "outputs": [
    {
     "data": {
      "text/plain": [
       "id_prod       0.0\n",
       "date          0.0\n",
       "session_id    0.0\n",
       "client_id     0.0\n",
       "dtype: float64"
      ]
     },
     "execution_count": 24,
     "metadata": {},
     "output_type": "execute_result"
    }
   ],
   "source": [
    "#valeurs manquantes\n",
    "transactions.isna().mean()"
   ]
  },
  {
   "cell_type": "code",
   "execution_count": 25,
   "id": "27f1894b",
   "metadata": {},
   "outputs": [
    {
     "data": {
      "text/plain": [
       "126"
      ]
     },
     "execution_count": 25,
     "metadata": {},
     "output_type": "execute_result"
    }
   ],
   "source": [
    "#Doublon\n",
    "transactions.duplicated().sum()"
   ]
  },
  {
   "cell_type": "markdown",
   "id": "8511bbb9",
   "metadata": {},
   "source": [
    "Votre conclusion ?\n",
    "\n",
    "Le fichier transactions ne contient pas de valeurs manquantes mais des doublons\n",
    "\n",
    "Qu'est-ce qu'on remarque ? \n",
    "\n",
    "On remarque que nous avons des valeurs du champ date qui commencent par test_ ce qui est abberant donc nous devons reformatter ce champ"
   ]
  },
  {
   "cell_type": "code",
   "execution_count": 26,
   "id": "620add1a",
   "metadata": {},
   "outputs": [
    {
     "data": {
      "text/plain": [
       "(679532, 4)"
      ]
     },
     "execution_count": 26,
     "metadata": {},
     "output_type": "execute_result"
    }
   ],
   "source": [
    "transactions.shape"
   ]
  },
  {
   "cell_type": "code",
   "execution_count": 27,
   "id": "f7330228",
   "metadata": {},
   "outputs": [
    {
     "data": {
      "text/plain": [
       "(679406, 4)"
      ]
     },
     "execution_count": 27,
     "metadata": {},
     "output_type": "execute_result"
    }
   ],
   "source": [
    "transactions.drop_duplicates().shape"
   ]
  },
  {
   "cell_type": "code",
   "execution_count": 40,
   "id": "f5205e31",
   "metadata": {},
   "outputs": [],
   "source": [
    "# retirer les lignes identifiées\n",
    "transactions = transactions.drop_duplicates()"
   ]
  },
  {
   "cell_type": "code",
   "execution_count": 28,
   "id": "61ed7735",
   "metadata": {},
   "outputs": [
    {
     "data": {
      "text/html": [
       "<div>\n",
       "<style scoped>\n",
       "    .dataframe tbody tr th:only-of-type {\n",
       "        vertical-align: middle;\n",
       "    }\n",
       "\n",
       "    .dataframe tbody tr th {\n",
       "        vertical-align: top;\n",
       "    }\n",
       "\n",
       "    .dataframe thead th {\n",
       "        text-align: right;\n",
       "    }\n",
       "</style>\n",
       "<table border=\"1\" class=\"dataframe\">\n",
       "  <thead>\n",
       "    <tr style=\"text-align: right;\">\n",
       "      <th></th>\n",
       "      <th>id_prod</th>\n",
       "      <th>date</th>\n",
       "      <th>session_id</th>\n",
       "      <th>client_id</th>\n",
       "    </tr>\n",
       "  </thead>\n",
       "  <tbody>\n",
       "    <tr>\n",
       "      <th>0</th>\n",
       "      <td>0_1518</td>\n",
       "      <td>2022-05-20 13:21:29.043970</td>\n",
       "      <td>s_211425</td>\n",
       "      <td>c_103</td>\n",
       "    </tr>\n",
       "    <tr>\n",
       "      <th>1</th>\n",
       "      <td>1_251</td>\n",
       "      <td>2022-02-02 07:55:19.149409</td>\n",
       "      <td>s_158752</td>\n",
       "      <td>c_8534</td>\n",
       "    </tr>\n",
       "    <tr>\n",
       "      <th>2</th>\n",
       "      <td>0_1277</td>\n",
       "      <td>2022-06-18 15:44:33.155329</td>\n",
       "      <td>s_225667</td>\n",
       "      <td>c_6714</td>\n",
       "    </tr>\n",
       "    <tr>\n",
       "      <th>3</th>\n",
       "      <td>2_209</td>\n",
       "      <td>2021-06-24 04:19:29.835891</td>\n",
       "      <td>s_52962</td>\n",
       "      <td>c_6941</td>\n",
       "    </tr>\n",
       "    <tr>\n",
       "      <th>4</th>\n",
       "      <td>0_1509</td>\n",
       "      <td>2023-01-11 08:22:08.194479</td>\n",
       "      <td>s_325227</td>\n",
       "      <td>c_4232</td>\n",
       "    </tr>\n",
       "  </tbody>\n",
       "</table>\n",
       "</div>"
      ],
      "text/plain": [
       "  id_prod                        date session_id client_id\n",
       "0  0_1518  2022-05-20 13:21:29.043970   s_211425     c_103\n",
       "1   1_251  2022-02-02 07:55:19.149409   s_158752    c_8534\n",
       "2  0_1277  2022-06-18 15:44:33.155329   s_225667    c_6714\n",
       "3   2_209  2021-06-24 04:19:29.835891    s_52962    c_6941\n",
       "4  0_1509  2023-01-11 08:22:08.194479   s_325227    c_4232"
      ]
     },
     "execution_count": 28,
     "metadata": {},
     "output_type": "execute_result"
    }
   ],
   "source": [
    "transactions.head()"
   ]
  },
  {
   "cell_type": "code",
   "execution_count": 40,
   "id": "0af11ba7",
   "metadata": {
    "scrolled": true
   },
   "outputs": [
    {
     "data": {
      "text/html": [
       "<div>\n",
       "<style scoped>\n",
       "    .dataframe tbody tr th:only-of-type {\n",
       "        vertical-align: middle;\n",
       "    }\n",
       "\n",
       "    .dataframe tbody tr th {\n",
       "        vertical-align: top;\n",
       "    }\n",
       "\n",
       "    .dataframe thead th {\n",
       "        text-align: right;\n",
       "    }\n",
       "</style>\n",
       "<table border=\"1\" class=\"dataframe\">\n",
       "  <thead>\n",
       "    <tr style=\"text-align: right;\">\n",
       "      <th></th>\n",
       "      <th>client_id</th>\n",
       "      <th>nb_achat_par_client</th>\n",
       "    </tr>\n",
       "  </thead>\n",
       "  <tbody>\n",
       "    <tr>\n",
       "      <th>0</th>\n",
       "      <td>c_1</td>\n",
       "      <td>39</td>\n",
       "    </tr>\n",
       "    <tr>\n",
       "      <th>1</th>\n",
       "      <td>c_10</td>\n",
       "      <td>58</td>\n",
       "    </tr>\n",
       "    <tr>\n",
       "      <th>2</th>\n",
       "      <td>c_100</td>\n",
       "      <td>8</td>\n",
       "    </tr>\n",
       "    <tr>\n",
       "      <th>3</th>\n",
       "      <td>c_1000</td>\n",
       "      <td>125</td>\n",
       "    </tr>\n",
       "    <tr>\n",
       "      <th>4</th>\n",
       "      <td>c_1001</td>\n",
       "      <td>102</td>\n",
       "    </tr>\n",
       "    <tr>\n",
       "      <th>...</th>\n",
       "      <td>...</td>\n",
       "      <td>...</td>\n",
       "    </tr>\n",
       "    <tr>\n",
       "      <th>8597</th>\n",
       "      <td>c_997</td>\n",
       "      <td>59</td>\n",
       "    </tr>\n",
       "    <tr>\n",
       "      <th>8598</th>\n",
       "      <td>c_998</td>\n",
       "      <td>53</td>\n",
       "    </tr>\n",
       "    <tr>\n",
       "      <th>8599</th>\n",
       "      <td>c_999</td>\n",
       "      <td>46</td>\n",
       "    </tr>\n",
       "    <tr>\n",
       "      <th>8600</th>\n",
       "      <td>ct_0</td>\n",
       "      <td>106</td>\n",
       "    </tr>\n",
       "    <tr>\n",
       "      <th>8601</th>\n",
       "      <td>ct_1</td>\n",
       "      <td>94</td>\n",
       "    </tr>\n",
       "  </tbody>\n",
       "</table>\n",
       "<p>8602 rows × 2 columns</p>\n",
       "</div>"
      ],
      "text/plain": [
       "     client_id  nb_achat_par_client\n",
       "0          c_1                   39\n",
       "1         c_10                   58\n",
       "2        c_100                    8\n",
       "3       c_1000                  125\n",
       "4       c_1001                  102\n",
       "...        ...                  ...\n",
       "8597     c_997                   59\n",
       "8598     c_998                   53\n",
       "8599     c_999                   46\n",
       "8600      ct_0                  106\n",
       "8601      ct_1                   94\n",
       "\n",
       "[8602 rows x 2 columns]"
      ]
     },
     "execution_count": 40,
     "metadata": {},
     "output_type": "execute_result"
    }
   ],
   "source": [
    "# Calculer le nombre d'achats par client avec groupby et calculer ensuite le nombre d'achats moyen\n",
    "df_nb_achat_par_client = pd.DataFrame(transactions.groupby(\"client_id\")[\"client_id\"].count())\n",
    "df_nb_achat_par_client.columns = [\"nb_achat_par_client\"]\n",
    "df_nb_achat_par_client.reset_index(inplace=True)\n",
    "df_nb_achat_par_client"
   ]
  },
  {
   "cell_type": "code",
   "execution_count": 41,
   "id": "3fcbac23",
   "metadata": {},
   "outputs": [
    {
     "name": "stdout",
     "output_type": "stream",
     "text": [
      "le nombre d'achats moyen :  78.99697744710532\n"
     ]
    }
   ],
   "source": [
    "print(\"le nombre d'achats moyen : \", df_nb_achat_par_client.nb_achat_par_client.mean())"
   ]
  },
  {
   "cell_type": "code",
   "execution_count": 95,
   "id": "2e2212dd",
   "metadata": {
    "scrolled": true
   },
   "outputs": [
    {
     "data": {
      "text/plain": [
       "{'whiskers': [<matplotlib.lines.Line2D at 0x19b94b7e040>,\n",
       "  <matplotlib.lines.Line2D at 0x19b94b7e310>],\n",
       " 'caps': [<matplotlib.lines.Line2D at 0x19b94b7e5e0>,\n",
       "  <matplotlib.lines.Line2D at 0x19b94b7e8b0>],\n",
       " 'boxes': [<matplotlib.lines.Line2D at 0x19b94b5fd30>],\n",
       " 'medians': [<matplotlib.lines.Line2D at 0x19b94b7eb80>],\n",
       " 'fliers': [<matplotlib.lines.Line2D at 0x19b94b7ee80>],\n",
       " 'means': []}"
      ]
     },
     "execution_count": 95,
     "metadata": {},
     "output_type": "execute_result"
    },
    {
     "data": {
      "image/png": "[encoded data removed]",
      "text/plain": [
       "<Figure size 432x288 with 1 Axes>"
      ]
     },
     "metadata": {
      "needs_background": "light"
     },
     "output_type": "display_data"
    }
   ],
   "source": [
    "# tracer un boxplot pour voir la distribution, voux pouvez utiliser plt.boxplot()\n",
    "plt.boxplot(df_nb_achat_par_client[\"nb_achat_par_client\"])"
   ]
  },
  {
   "cell_type": "markdown",
   "id": "f5f29f6e",
   "metadata": {},
   "source": [
    "Qu'est-ce qu'on remarque ? \n"
   ]
  },
  {
   "cell_type": "markdown",
   "id": "b7d4f71b",
   "metadata": {},
   "source": [
    "## 1.2 - Jointure des dataframes"
   ]
  },
  {
   "cell_type": "markdown",
   "id": "a612c914",
   "metadata": {},
   "source": [
    "1.2.1 - products & transactions"
   ]
  },
  {
   "cell_type": "code",
   "execution_count": 44,
   "id": "bb3f74b6",
   "metadata": {},
   "outputs": [],
   "source": [
    "# Jointure entre transactions et products en prenant comme clé la colonne 'id_prod'\n",
    "# jointure externe \n",
    "# afin de conserver toutes les lignes de mon fichier transactions.\n",
    "\n",
    "df_final = pd.merge(transactions,products, on = 'id_prod', how= 'outer')"
   ]
  },
  {
   "cell_type": "code",
   "execution_count": 54,
   "id": "0f58bd56",
   "metadata": {
    "scrolled": true
   },
   "outputs": [
    {
     "data": {
      "text/html": [
       "<div>\n",
       "<style scoped>\n",
       "    .dataframe tbody tr th:only-of-type {\n",
       "        vertical-align: middle;\n",
       "    }\n",
       "\n",
       "    .dataframe tbody tr th {\n",
       "        vertical-align: top;\n",
       "    }\n",
       "\n",
       "    .dataframe thead th {\n",
       "        text-align: right;\n",
       "    }\n",
       "</style>\n",
       "<table border=\"1\" class=\"dataframe\">\n",
       "  <thead>\n",
       "    <tr style=\"text-align: right;\">\n",
       "      <th></th>\n",
       "      <th>id_prod</th>\n",
       "      <th>date</th>\n",
       "      <th>session_id</th>\n",
       "      <th>client_id</th>\n",
       "      <th>price</th>\n",
       "      <th>categ</th>\n",
       "    </tr>\n",
       "  </thead>\n",
       "  <tbody>\n",
       "    <tr>\n",
       "      <th>679532</th>\n",
       "      <td>0_1016</td>\n",
       "      <td>NaN</td>\n",
       "      <td>NaN</td>\n",
       "      <td>NaN</td>\n",
       "      <td>35.06</td>\n",
       "      <td>0.0</td>\n",
       "    </tr>\n",
       "    <tr>\n",
       "      <th>679533</th>\n",
       "      <td>0_1780</td>\n",
       "      <td>NaN</td>\n",
       "      <td>NaN</td>\n",
       "      <td>NaN</td>\n",
       "      <td>1.67</td>\n",
       "      <td>0.0</td>\n",
       "    </tr>\n",
       "    <tr>\n",
       "      <th>679534</th>\n",
       "      <td>0_1062</td>\n",
       "      <td>NaN</td>\n",
       "      <td>NaN</td>\n",
       "      <td>NaN</td>\n",
       "      <td>20.08</td>\n",
       "      <td>0.0</td>\n",
       "    </tr>\n",
       "    <tr>\n",
       "      <th>679535</th>\n",
       "      <td>0_1119</td>\n",
       "      <td>NaN</td>\n",
       "      <td>NaN</td>\n",
       "      <td>NaN</td>\n",
       "      <td>2.99</td>\n",
       "      <td>0.0</td>\n",
       "    </tr>\n",
       "    <tr>\n",
       "      <th>679536</th>\n",
       "      <td>0_1014</td>\n",
       "      <td>NaN</td>\n",
       "      <td>NaN</td>\n",
       "      <td>NaN</td>\n",
       "      <td>1.15</td>\n",
       "      <td>0.0</td>\n",
       "    </tr>\n",
       "    <tr>\n",
       "      <th>679537</th>\n",
       "      <td>1_0</td>\n",
       "      <td>NaN</td>\n",
       "      <td>NaN</td>\n",
       "      <td>NaN</td>\n",
       "      <td>31.82</td>\n",
       "      <td>1.0</td>\n",
       "    </tr>\n",
       "    <tr>\n",
       "      <th>679538</th>\n",
       "      <td>0_1318</td>\n",
       "      <td>NaN</td>\n",
       "      <td>NaN</td>\n",
       "      <td>NaN</td>\n",
       "      <td>20.92</td>\n",
       "      <td>0.0</td>\n",
       "    </tr>\n",
       "    <tr>\n",
       "      <th>679539</th>\n",
       "      <td>0_1800</td>\n",
       "      <td>NaN</td>\n",
       "      <td>NaN</td>\n",
       "      <td>NaN</td>\n",
       "      <td>22.05</td>\n",
       "      <td>0.0</td>\n",
       "    </tr>\n",
       "    <tr>\n",
       "      <th>679540</th>\n",
       "      <td>0_1645</td>\n",
       "      <td>NaN</td>\n",
       "      <td>NaN</td>\n",
       "      <td>NaN</td>\n",
       "      <td>2.99</td>\n",
       "      <td>0.0</td>\n",
       "    </tr>\n",
       "    <tr>\n",
       "      <th>679541</th>\n",
       "      <td>0_322</td>\n",
       "      <td>NaN</td>\n",
       "      <td>NaN</td>\n",
       "      <td>NaN</td>\n",
       "      <td>2.99</td>\n",
       "      <td>0.0</td>\n",
       "    </tr>\n",
       "    <tr>\n",
       "      <th>679542</th>\n",
       "      <td>0_1620</td>\n",
       "      <td>NaN</td>\n",
       "      <td>NaN</td>\n",
       "      <td>NaN</td>\n",
       "      <td>0.80</td>\n",
       "      <td>0.0</td>\n",
       "    </tr>\n",
       "    <tr>\n",
       "      <th>679543</th>\n",
       "      <td>0_1025</td>\n",
       "      <td>NaN</td>\n",
       "      <td>NaN</td>\n",
       "      <td>NaN</td>\n",
       "      <td>24.99</td>\n",
       "      <td>0.0</td>\n",
       "    </tr>\n",
       "    <tr>\n",
       "      <th>679544</th>\n",
       "      <td>2_87</td>\n",
       "      <td>NaN</td>\n",
       "      <td>NaN</td>\n",
       "      <td>NaN</td>\n",
       "      <td>220.99</td>\n",
       "      <td>2.0</td>\n",
       "    </tr>\n",
       "    <tr>\n",
       "      <th>679545</th>\n",
       "      <td>1_394</td>\n",
       "      <td>NaN</td>\n",
       "      <td>NaN</td>\n",
       "      <td>NaN</td>\n",
       "      <td>39.73</td>\n",
       "      <td>1.0</td>\n",
       "    </tr>\n",
       "    <tr>\n",
       "      <th>679546</th>\n",
       "      <td>2_72</td>\n",
       "      <td>NaN</td>\n",
       "      <td>NaN</td>\n",
       "      <td>NaN</td>\n",
       "      <td>141.32</td>\n",
       "      <td>2.0</td>\n",
       "    </tr>\n",
       "    <tr>\n",
       "      <th>679547</th>\n",
       "      <td>0_310</td>\n",
       "      <td>NaN</td>\n",
       "      <td>NaN</td>\n",
       "      <td>NaN</td>\n",
       "      <td>1.94</td>\n",
       "      <td>0.0</td>\n",
       "    </tr>\n",
       "    <tr>\n",
       "      <th>679548</th>\n",
       "      <td>0_1624</td>\n",
       "      <td>NaN</td>\n",
       "      <td>NaN</td>\n",
       "      <td>NaN</td>\n",
       "      <td>24.50</td>\n",
       "      <td>0.0</td>\n",
       "    </tr>\n",
       "    <tr>\n",
       "      <th>679549</th>\n",
       "      <td>2_86</td>\n",
       "      <td>NaN</td>\n",
       "      <td>NaN</td>\n",
       "      <td>NaN</td>\n",
       "      <td>132.36</td>\n",
       "      <td>2.0</td>\n",
       "    </tr>\n",
       "    <tr>\n",
       "      <th>679550</th>\n",
       "      <td>0_299</td>\n",
       "      <td>NaN</td>\n",
       "      <td>NaN</td>\n",
       "      <td>NaN</td>\n",
       "      <td>22.99</td>\n",
       "      <td>0.0</td>\n",
       "    </tr>\n",
       "    <tr>\n",
       "      <th>679551</th>\n",
       "      <td>0_510</td>\n",
       "      <td>NaN</td>\n",
       "      <td>NaN</td>\n",
       "      <td>NaN</td>\n",
       "      <td>23.66</td>\n",
       "      <td>0.0</td>\n",
       "    </tr>\n",
       "    <tr>\n",
       "      <th>679552</th>\n",
       "      <td>0_2308</td>\n",
       "      <td>NaN</td>\n",
       "      <td>NaN</td>\n",
       "      <td>NaN</td>\n",
       "      <td>20.28</td>\n",
       "      <td>0.0</td>\n",
       "    </tr>\n",
       "  </tbody>\n",
       "</table>\n",
       "</div>"
      ],
      "text/plain": [
       "       id_prod date session_id client_id   price  categ\n",
       "679532  0_1016  NaN        NaN       NaN   35.06    0.0\n",
       "679533  0_1780  NaN        NaN       NaN    1.67    0.0\n",
       "679534  0_1062  NaN        NaN       NaN   20.08    0.0\n",
       "679535  0_1119  NaN        NaN       NaN    2.99    0.0\n",
       "679536  0_1014  NaN        NaN       NaN    1.15    0.0\n",
       "679537     1_0  NaN        NaN       NaN   31.82    1.0\n",
       "679538  0_1318  NaN        NaN       NaN   20.92    0.0\n",
       "679539  0_1800  NaN        NaN       NaN   22.05    0.0\n",
       "679540  0_1645  NaN        NaN       NaN    2.99    0.0\n",
       "679541   0_322  NaN        NaN       NaN    2.99    0.0\n",
       "679542  0_1620  NaN        NaN       NaN    0.80    0.0\n",
       "679543  0_1025  NaN        NaN       NaN   24.99    0.0\n",
       "679544    2_87  NaN        NaN       NaN  220.99    2.0\n",
       "679545   1_394  NaN        NaN       NaN   39.73    1.0\n",
       "679546    2_72  NaN        NaN       NaN  141.32    2.0\n",
       "679547   0_310  NaN        NaN       NaN    1.94    0.0\n",
       "679548  0_1624  NaN        NaN       NaN   24.50    0.0\n",
       "679549    2_86  NaN        NaN       NaN  132.36    2.0\n",
       "679550   0_299  NaN        NaN       NaN   22.99    0.0\n",
       "679551   0_510  NaN        NaN       NaN   23.66    0.0\n",
       "679552  0_2308  NaN        NaN       NaN   20.28    0.0"
      ]
     },
     "execution_count": 54,
     "metadata": {},
     "output_type": "execute_result"
    }
   ],
   "source": [
    "#regardons les cas où le produit n'est pas vendu\n",
    "df_final[(~df_final.id_prod.isnull()) & df_final.client_id.isnull()]"
   ]
  },
  {
   "cell_type": "code",
   "execution_count": 55,
   "id": "98098e6f",
   "metadata": {
    "scrolled": true
   },
   "outputs": [
    {
     "name": "stdout",
     "output_type": "stream",
     "text": [
      "les produits qui ne sont pas vendus ['0_1016' '0_1780' '0_1062' '0_1119' '0_1014' '1_0' '0_1318' '0_1800'\n",
      " '0_1645' '0_322' '0_1620' '0_1025' '2_87' '1_394' '2_72' '0_310' '0_1624'\n",
      " '2_86' '0_299' '0_510' '0_2308']\n"
     ]
    }
   ],
   "source": [
    "print(\"les produits qui ne sont pas vendus\",df_final[(~df_final.id_prod.isnull()) & df_final.client_id.isnull()].id_prod.unique())"
   ]
  },
  {
   "cell_type": "code",
   "execution_count": 58,
   "id": "35b32c1a",
   "metadata": {
    "scrolled": false
   },
   "outputs": [
    {
     "data": {
      "text/plain": [
       "Int64Index([679532, 679533, 679534, 679535, 679536, 679537, 679538, 679539,\n",
       "            679540, 679541, 679542, 679543, 679544, 679545, 679546, 679547,\n",
       "            679548, 679549, 679550, 679551, 679552],\n",
       "           dtype='int64')"
      ]
     },
     "execution_count": 58,
     "metadata": {},
     "output_type": "execute_result"
    }
   ],
   "source": [
    "df_final.loc[(~df_final.id_prod.isnull()) & df_final.client_id.isnull()].index"
   ]
  },
  {
   "cell_type": "code",
   "execution_count": 59,
   "id": "64f1d312",
   "metadata": {},
   "outputs": [],
   "source": [
    "#on supprime les produits invendus\n",
    "\n",
    "index = df_final.loc[(~df_final.id_prod.isnull()) & df_final.client_id.isnull()].index ## df_final[df_final._merge==\"right_only\"]\n",
    "\n",
    "df_final.drop(index, inplace = True)"
   ]
  },
  {
   "cell_type": "code",
   "execution_count": null,
   "id": "d8510e04",
   "metadata": {},
   "outputs": [],
   "source": []
  },
  {
   "cell_type": "code",
   "execution_count": 64,
   "id": "5b6e7497",
   "metadata": {},
   "outputs": [
    {
     "data": {
      "text/html": [
       "<div>\n",
       "<style scoped>\n",
       "    .dataframe tbody tr th:only-of-type {\n",
       "        vertical-align: middle;\n",
       "    }\n",
       "\n",
       "    .dataframe tbody tr th {\n",
       "        vertical-align: top;\n",
       "    }\n",
       "\n",
       "    .dataframe thead th {\n",
       "        text-align: right;\n",
       "    }\n",
       "</style>\n",
       "<table border=\"1\" class=\"dataframe\">\n",
       "  <thead>\n",
       "    <tr style=\"text-align: right;\">\n",
       "      <th></th>\n",
       "      <th>id_prod</th>\n",
       "      <th>date</th>\n",
       "      <th>session_id</th>\n",
       "      <th>client_id</th>\n",
       "      <th>price</th>\n",
       "      <th>categ</th>\n",
       "    </tr>\n",
       "  </thead>\n",
       "  <tbody>\n",
       "    <tr>\n",
       "      <th>542560</th>\n",
       "      <td>0_2245</td>\n",
       "      <td>2022-09-23 07:22:38.636773</td>\n",
       "      <td>s_272266</td>\n",
       "      <td>c_4746</td>\n",
       "      <td>NaN</td>\n",
       "      <td>NaN</td>\n",
       "    </tr>\n",
       "    <tr>\n",
       "      <th>542561</th>\n",
       "      <td>0_2245</td>\n",
       "      <td>2022-07-23 09:24:14.133889</td>\n",
       "      <td>s_242482</td>\n",
       "      <td>c_6713</td>\n",
       "      <td>NaN</td>\n",
       "      <td>NaN</td>\n",
       "    </tr>\n",
       "    <tr>\n",
       "      <th>542562</th>\n",
       "      <td>0_2245</td>\n",
       "      <td>2022-12-03 03:26:35.696673</td>\n",
       "      <td>s_306338</td>\n",
       "      <td>c_5108</td>\n",
       "      <td>NaN</td>\n",
       "      <td>NaN</td>\n",
       "    </tr>\n",
       "    <tr>\n",
       "      <th>542563</th>\n",
       "      <td>0_2245</td>\n",
       "      <td>2021-08-16 11:33:25.481411</td>\n",
       "      <td>s_76493</td>\n",
       "      <td>c_1391</td>\n",
       "      <td>NaN</td>\n",
       "      <td>NaN</td>\n",
       "    </tr>\n",
       "    <tr>\n",
       "      <th>542564</th>\n",
       "      <td>0_2245</td>\n",
       "      <td>2022-07-16 05:53:01.627491</td>\n",
       "      <td>s_239078</td>\n",
       "      <td>c_7954</td>\n",
       "      <td>NaN</td>\n",
       "      <td>NaN</td>\n",
       "    </tr>\n",
       "    <tr>\n",
       "      <th>...</th>\n",
       "      <td>...</td>\n",
       "      <td>...</td>\n",
       "      <td>...</td>\n",
       "      <td>...</td>\n",
       "      <td>...</td>\n",
       "      <td>...</td>\n",
       "    </tr>\n",
       "    <tr>\n",
       "      <th>542776</th>\n",
       "      <td>0_2245</td>\n",
       "      <td>2021-08-25 09:06:03.504061</td>\n",
       "      <td>s_80395</td>\n",
       "      <td>c_131</td>\n",
       "      <td>NaN</td>\n",
       "      <td>NaN</td>\n",
       "    </tr>\n",
       "    <tr>\n",
       "      <th>542777</th>\n",
       "      <td>0_2245</td>\n",
       "      <td>2022-03-06 19:59:19.462288</td>\n",
       "      <td>s_175311</td>\n",
       "      <td>c_4167</td>\n",
       "      <td>NaN</td>\n",
       "      <td>NaN</td>\n",
       "    </tr>\n",
       "    <tr>\n",
       "      <th>542778</th>\n",
       "      <td>0_2245</td>\n",
       "      <td>2022-05-16 11:35:20.319501</td>\n",
       "      <td>s_209381</td>\n",
       "      <td>c_4453</td>\n",
       "      <td>NaN</td>\n",
       "      <td>NaN</td>\n",
       "    </tr>\n",
       "    <tr>\n",
       "      <th>542779</th>\n",
       "      <td>0_2245</td>\n",
       "      <td>2022-02-11 09:05:43.952857</td>\n",
       "      <td>s_163405</td>\n",
       "      <td>c_1098</td>\n",
       "      <td>NaN</td>\n",
       "      <td>NaN</td>\n",
       "    </tr>\n",
       "    <tr>\n",
       "      <th>542780</th>\n",
       "      <td>0_2245</td>\n",
       "      <td>2021-12-14 22:34:54.589921</td>\n",
       "      <td>s_134446</td>\n",
       "      <td>c_4854</td>\n",
       "      <td>NaN</td>\n",
       "      <td>NaN</td>\n",
       "    </tr>\n",
       "  </tbody>\n",
       "</table>\n",
       "<p>221 rows × 6 columns</p>\n",
       "</div>"
      ],
      "text/plain": [
       "       id_prod                        date session_id client_id  price  categ\n",
       "542560  0_2245  2022-09-23 07:22:38.636773   s_272266    c_4746    NaN    NaN\n",
       "542561  0_2245  2022-07-23 09:24:14.133889   s_242482    c_6713    NaN    NaN\n",
       "542562  0_2245  2022-12-03 03:26:35.696673   s_306338    c_5108    NaN    NaN\n",
       "542563  0_2245  2021-08-16 11:33:25.481411    s_76493    c_1391    NaN    NaN\n",
       "542564  0_2245  2022-07-16 05:53:01.627491   s_239078    c_7954    NaN    NaN\n",
       "...        ...                         ...        ...       ...    ...    ...\n",
       "542776  0_2245  2021-08-25 09:06:03.504061    s_80395     c_131    NaN    NaN\n",
       "542777  0_2245  2022-03-06 19:59:19.462288   s_175311    c_4167    NaN    NaN\n",
       "542778  0_2245  2022-05-16 11:35:20.319501   s_209381    c_4453    NaN    NaN\n",
       "542779  0_2245  2022-02-11 09:05:43.952857   s_163405    c_1098    NaN    NaN\n",
       "542780  0_2245  2021-12-14 22:34:54.589921   s_134446    c_4854    NaN    NaN\n",
       "\n",
       "[221 rows x 6 columns]"
      ]
     },
     "execution_count": 64,
     "metadata": {},
     "output_type": "execute_result"
    }
   ],
   "source": [
    "#regardons les cas où le produit dans transaction n'est pas trouvé dans products\n",
    "df_final.loc[(~df_final.id_prod.isnull()) & df_final.price.isnull()] #df_final[df_final._merge==\"left_only\"]"
   ]
  },
  {
   "cell_type": "code",
   "execution_count": 65,
   "id": "d65dfdc9",
   "metadata": {},
   "outputs": [
    {
     "data": {
      "text/html": [
       "<div>\n",
       "<style scoped>\n",
       "    .dataframe tbody tr th:only-of-type {\n",
       "        vertical-align: middle;\n",
       "    }\n",
       "\n",
       "    .dataframe tbody tr th {\n",
       "        vertical-align: top;\n",
       "    }\n",
       "\n",
       "    .dataframe thead th {\n",
       "        text-align: right;\n",
       "    }\n",
       "</style>\n",
       "<table border=\"1\" class=\"dataframe\">\n",
       "  <thead>\n",
       "    <tr style=\"text-align: right;\">\n",
       "      <th></th>\n",
       "      <th>id_prod</th>\n",
       "      <th>date</th>\n",
       "      <th>session_id</th>\n",
       "      <th>client_id</th>\n",
       "      <th>price</th>\n",
       "      <th>categ</th>\n",
       "    </tr>\n",
       "  </thead>\n",
       "  <tbody>\n",
       "    <tr>\n",
       "      <th>count</th>\n",
       "      <td>221</td>\n",
       "      <td>221</td>\n",
       "      <td>221</td>\n",
       "      <td>221</td>\n",
       "      <td>0.0</td>\n",
       "      <td>0.0</td>\n",
       "    </tr>\n",
       "    <tr>\n",
       "      <th>unique</th>\n",
       "      <td>1</td>\n",
       "      <td>221</td>\n",
       "      <td>221</td>\n",
       "      <td>100</td>\n",
       "      <td>NaN</td>\n",
       "      <td>NaN</td>\n",
       "    </tr>\n",
       "    <tr>\n",
       "      <th>top</th>\n",
       "      <td>0_2245</td>\n",
       "      <td>2022-09-23 07:22:38.636773</td>\n",
       "      <td>s_272266</td>\n",
       "      <td>c_1533</td>\n",
       "      <td>NaN</td>\n",
       "      <td>NaN</td>\n",
       "    </tr>\n",
       "    <tr>\n",
       "      <th>freq</th>\n",
       "      <td>221</td>\n",
       "      <td>1</td>\n",
       "      <td>1</td>\n",
       "      <td>6</td>\n",
       "      <td>NaN</td>\n",
       "      <td>NaN</td>\n",
       "    </tr>\n",
       "    <tr>\n",
       "      <th>mean</th>\n",
       "      <td>NaN</td>\n",
       "      <td>NaN</td>\n",
       "      <td>NaN</td>\n",
       "      <td>NaN</td>\n",
       "      <td>NaN</td>\n",
       "      <td>NaN</td>\n",
       "    </tr>\n",
       "    <tr>\n",
       "      <th>std</th>\n",
       "      <td>NaN</td>\n",
       "      <td>NaN</td>\n",
       "      <td>NaN</td>\n",
       "      <td>NaN</td>\n",
       "      <td>NaN</td>\n",
       "      <td>NaN</td>\n",
       "    </tr>\n",
       "    <tr>\n",
       "      <th>min</th>\n",
       "      <td>NaN</td>\n",
       "      <td>NaN</td>\n",
       "      <td>NaN</td>\n",
       "      <td>NaN</td>\n",
       "      <td>NaN</td>\n",
       "      <td>NaN</td>\n",
       "    </tr>\n",
       "    <tr>\n",
       "      <th>25%</th>\n",
       "      <td>NaN</td>\n",
       "      <td>NaN</td>\n",
       "      <td>NaN</td>\n",
       "      <td>NaN</td>\n",
       "      <td>NaN</td>\n",
       "      <td>NaN</td>\n",
       "    </tr>\n",
       "    <tr>\n",
       "      <th>50%</th>\n",
       "      <td>NaN</td>\n",
       "      <td>NaN</td>\n",
       "      <td>NaN</td>\n",
       "      <td>NaN</td>\n",
       "      <td>NaN</td>\n",
       "      <td>NaN</td>\n",
       "    </tr>\n",
       "    <tr>\n",
       "      <th>75%</th>\n",
       "      <td>NaN</td>\n",
       "      <td>NaN</td>\n",
       "      <td>NaN</td>\n",
       "      <td>NaN</td>\n",
       "      <td>NaN</td>\n",
       "      <td>NaN</td>\n",
       "    </tr>\n",
       "    <tr>\n",
       "      <th>max</th>\n",
       "      <td>NaN</td>\n",
       "      <td>NaN</td>\n",
       "      <td>NaN</td>\n",
       "      <td>NaN</td>\n",
       "      <td>NaN</td>\n",
       "      <td>NaN</td>\n",
       "    </tr>\n",
       "  </tbody>\n",
       "</table>\n",
       "</div>"
      ],
      "text/plain": [
       "       id_prod                        date session_id client_id  price  categ\n",
       "count      221                         221        221       221    0.0    0.0\n",
       "unique       1                         221        221       100    NaN    NaN\n",
       "top     0_2245  2022-09-23 07:22:38.636773   s_272266    c_1533    NaN    NaN\n",
       "freq       221                           1          1         6    NaN    NaN\n",
       "mean       NaN                         NaN        NaN       NaN    NaN    NaN\n",
       "std        NaN                         NaN        NaN       NaN    NaN    NaN\n",
       "min        NaN                         NaN        NaN       NaN    NaN    NaN\n",
       "25%        NaN                         NaN        NaN       NaN    NaN    NaN\n",
       "50%        NaN                         NaN        NaN       NaN    NaN    NaN\n",
       "75%        NaN                         NaN        NaN       NaN    NaN    NaN\n",
       "max        NaN                         NaN        NaN       NaN    NaN    NaN"
      ]
     },
     "execution_count": 65,
     "metadata": {},
     "output_type": "execute_result"
    }
   ],
   "source": [
    "#df_final[df_final._merge==\"left_only\"].describe(include = \"all\")\n",
    "df_final.loc[(~df_final.id_prod.isnull()) & df_final.price.isnull()].describe(include = \"all\")"
   ]
  },
  {
   "cell_type": "markdown",
   "id": "dc0dc4a0",
   "metadata": {},
   "source": [
    "Un produit a été vendu 221 fois, mais on ne connait pas son prix.\n",
    "Plusieurs possibilités : \n",
    "\n",
    "    - on supprime les lignes -> on sous-estimera le CA\n",
    "    \n",
    "    - on fait une imputation "
   ]
  },
  {
   "cell_type": "code",
   "execution_count": 66,
   "id": "e144e193",
   "metadata": {},
   "outputs": [],
   "source": [
    "# faisons une imputation \n",
    "\n",
    "index = df_final.loc[(~df_final.id_prod.isnull()) & df_final.price.isnull()].index #on récupère l'index des lignes qu'il faut modifier \n",
    "\n",
    "df_final.loc[index,\"price\"] = 11.7\n",
    "\n",
    "df_final.loc[index,\"categ\"] = 0\n"
   ]
  },
  {
   "cell_type": "markdown",
   "id": "8fabc726",
   "metadata": {},
   "source": [
    "### 1.2.1 - ajout de customers"
   ]
  },
  {
   "cell_type": "code",
   "execution_count": 70,
   "id": "c39adc42",
   "metadata": {},
   "outputs": [],
   "source": [
    "# faire la jointure \n",
    "df_final = pd.merge(df_final,customers, on = 'client_id', how= 'outer')"
   ]
  },
  {
   "cell_type": "code",
   "execution_count": 72,
   "id": "71cedca9",
   "metadata": {
    "scrolled": true
   },
   "outputs": [
    {
     "data": {
      "text/html": [
       "<div>\n",
       "<style scoped>\n",
       "    .dataframe tbody tr th:only-of-type {\n",
       "        vertical-align: middle;\n",
       "    }\n",
       "\n",
       "    .dataframe tbody tr th {\n",
       "        vertical-align: top;\n",
       "    }\n",
       "\n",
       "    .dataframe thead th {\n",
       "        text-align: right;\n",
       "    }\n",
       "</style>\n",
       "<table border=\"1\" class=\"dataframe\">\n",
       "  <thead>\n",
       "    <tr style=\"text-align: right;\">\n",
       "      <th></th>\n",
       "      <th>id_prod</th>\n",
       "      <th>date</th>\n",
       "      <th>session_id</th>\n",
       "      <th>client_id</th>\n",
       "      <th>price</th>\n",
       "      <th>categ</th>\n",
       "      <th>sex</th>\n",
       "      <th>birth</th>\n",
       "    </tr>\n",
       "  </thead>\n",
       "  <tbody>\n",
       "  </tbody>\n",
       "</table>\n",
       "</div>"
      ],
      "text/plain": [
       "Empty DataFrame\n",
       "Columns: [id_prod, date, session_id, client_id, price, categ, sex, birth]\n",
       "Index: []"
      ]
     },
     "execution_count": 72,
     "metadata": {},
     "output_type": "execute_result"
    }
   ],
   "source": [
    "# Vérifier si des ventes concernent des clients absents de customers \n",
    "\n",
    "df_final[(~df_final[\"id_prod\"].isnull()) & (df_final.sex.isnull())]"
   ]
  },
  {
   "cell_type": "code",
   "execution_count": 73,
   "id": "144e64fb",
   "metadata": {
    "scrolled": true
   },
   "outputs": [
    {
     "data": {
      "text/html": [
       "<div>\n",
       "<style scoped>\n",
       "    .dataframe tbody tr th:only-of-type {\n",
       "        vertical-align: middle;\n",
       "    }\n",
       "\n",
       "    .dataframe tbody tr th {\n",
       "        vertical-align: top;\n",
       "    }\n",
       "\n",
       "    .dataframe thead th {\n",
       "        text-align: right;\n",
       "    }\n",
       "</style>\n",
       "<table border=\"1\" class=\"dataframe\">\n",
       "  <thead>\n",
       "    <tr style=\"text-align: right;\">\n",
       "      <th></th>\n",
       "      <th>id_prod</th>\n",
       "      <th>date</th>\n",
       "      <th>session_id</th>\n",
       "      <th>client_id</th>\n",
       "      <th>price</th>\n",
       "      <th>categ</th>\n",
       "      <th>sex</th>\n",
       "      <th>birth</th>\n",
       "    </tr>\n",
       "  </thead>\n",
       "  <tbody>\n",
       "    <tr>\n",
       "      <th>679532</th>\n",
       "      <td>NaN</td>\n",
       "      <td>NaN</td>\n",
       "      <td>NaN</td>\n",
       "      <td>c_8253</td>\n",
       "      <td>NaN</td>\n",
       "      <td>NaN</td>\n",
       "      <td>f</td>\n",
       "      <td>2001</td>\n",
       "    </tr>\n",
       "    <tr>\n",
       "      <th>679533</th>\n",
       "      <td>NaN</td>\n",
       "      <td>NaN</td>\n",
       "      <td>NaN</td>\n",
       "      <td>c_3789</td>\n",
       "      <td>NaN</td>\n",
       "      <td>NaN</td>\n",
       "      <td>f</td>\n",
       "      <td>1997</td>\n",
       "    </tr>\n",
       "    <tr>\n",
       "      <th>679534</th>\n",
       "      <td>NaN</td>\n",
       "      <td>NaN</td>\n",
       "      <td>NaN</td>\n",
       "      <td>c_4406</td>\n",
       "      <td>NaN</td>\n",
       "      <td>NaN</td>\n",
       "      <td>f</td>\n",
       "      <td>1998</td>\n",
       "    </tr>\n",
       "    <tr>\n",
       "      <th>679535</th>\n",
       "      <td>NaN</td>\n",
       "      <td>NaN</td>\n",
       "      <td>NaN</td>\n",
       "      <td>c_2706</td>\n",
       "      <td>NaN</td>\n",
       "      <td>NaN</td>\n",
       "      <td>f</td>\n",
       "      <td>1967</td>\n",
       "    </tr>\n",
       "    <tr>\n",
       "      <th>679536</th>\n",
       "      <td>NaN</td>\n",
       "      <td>NaN</td>\n",
       "      <td>NaN</td>\n",
       "      <td>c_3443</td>\n",
       "      <td>NaN</td>\n",
       "      <td>NaN</td>\n",
       "      <td>m</td>\n",
       "      <td>1959</td>\n",
       "    </tr>\n",
       "    <tr>\n",
       "      <th>679537</th>\n",
       "      <td>NaN</td>\n",
       "      <td>NaN</td>\n",
       "      <td>NaN</td>\n",
       "      <td>c_4447</td>\n",
       "      <td>NaN</td>\n",
       "      <td>NaN</td>\n",
       "      <td>m</td>\n",
       "      <td>1956</td>\n",
       "    </tr>\n",
       "    <tr>\n",
       "      <th>679538</th>\n",
       "      <td>NaN</td>\n",
       "      <td>NaN</td>\n",
       "      <td>NaN</td>\n",
       "      <td>c_3017</td>\n",
       "      <td>NaN</td>\n",
       "      <td>NaN</td>\n",
       "      <td>f</td>\n",
       "      <td>1992</td>\n",
       "    </tr>\n",
       "    <tr>\n",
       "      <th>679539</th>\n",
       "      <td>NaN</td>\n",
       "      <td>NaN</td>\n",
       "      <td>NaN</td>\n",
       "      <td>c_4086</td>\n",
       "      <td>NaN</td>\n",
       "      <td>NaN</td>\n",
       "      <td>f</td>\n",
       "      <td>1992</td>\n",
       "    </tr>\n",
       "    <tr>\n",
       "      <th>679540</th>\n",
       "      <td>NaN</td>\n",
       "      <td>NaN</td>\n",
       "      <td>NaN</td>\n",
       "      <td>c_6930</td>\n",
       "      <td>NaN</td>\n",
       "      <td>NaN</td>\n",
       "      <td>m</td>\n",
       "      <td>2004</td>\n",
       "    </tr>\n",
       "    <tr>\n",
       "      <th>679541</th>\n",
       "      <td>NaN</td>\n",
       "      <td>NaN</td>\n",
       "      <td>NaN</td>\n",
       "      <td>c_4358</td>\n",
       "      <td>NaN</td>\n",
       "      <td>NaN</td>\n",
       "      <td>m</td>\n",
       "      <td>1999</td>\n",
       "    </tr>\n",
       "    <tr>\n",
       "      <th>679542</th>\n",
       "      <td>NaN</td>\n",
       "      <td>NaN</td>\n",
       "      <td>NaN</td>\n",
       "      <td>c_8381</td>\n",
       "      <td>NaN</td>\n",
       "      <td>NaN</td>\n",
       "      <td>f</td>\n",
       "      <td>1965</td>\n",
       "    </tr>\n",
       "    <tr>\n",
       "      <th>679543</th>\n",
       "      <td>NaN</td>\n",
       "      <td>NaN</td>\n",
       "      <td>NaN</td>\n",
       "      <td>c_1223</td>\n",
       "      <td>NaN</td>\n",
       "      <td>NaN</td>\n",
       "      <td>m</td>\n",
       "      <td>1963</td>\n",
       "    </tr>\n",
       "    <tr>\n",
       "      <th>679544</th>\n",
       "      <td>NaN</td>\n",
       "      <td>NaN</td>\n",
       "      <td>NaN</td>\n",
       "      <td>c_6862</td>\n",
       "      <td>NaN</td>\n",
       "      <td>NaN</td>\n",
       "      <td>f</td>\n",
       "      <td>2002</td>\n",
       "    </tr>\n",
       "    <tr>\n",
       "      <th>679545</th>\n",
       "      <td>NaN</td>\n",
       "      <td>NaN</td>\n",
       "      <td>NaN</td>\n",
       "      <td>c_5245</td>\n",
       "      <td>NaN</td>\n",
       "      <td>NaN</td>\n",
       "      <td>f</td>\n",
       "      <td>2004</td>\n",
       "    </tr>\n",
       "    <tr>\n",
       "      <th>679546</th>\n",
       "      <td>NaN</td>\n",
       "      <td>NaN</td>\n",
       "      <td>NaN</td>\n",
       "      <td>c_5223</td>\n",
       "      <td>NaN</td>\n",
       "      <td>NaN</td>\n",
       "      <td>m</td>\n",
       "      <td>2003</td>\n",
       "    </tr>\n",
       "    <tr>\n",
       "      <th>679547</th>\n",
       "      <td>NaN</td>\n",
       "      <td>NaN</td>\n",
       "      <td>NaN</td>\n",
       "      <td>c_6735</td>\n",
       "      <td>NaN</td>\n",
       "      <td>NaN</td>\n",
       "      <td>m</td>\n",
       "      <td>2004</td>\n",
       "    </tr>\n",
       "    <tr>\n",
       "      <th>679548</th>\n",
       "      <td>NaN</td>\n",
       "      <td>NaN</td>\n",
       "      <td>NaN</td>\n",
       "      <td>c_862</td>\n",
       "      <td>NaN</td>\n",
       "      <td>NaN</td>\n",
       "      <td>f</td>\n",
       "      <td>1956</td>\n",
       "    </tr>\n",
       "    <tr>\n",
       "      <th>679549</th>\n",
       "      <td>NaN</td>\n",
       "      <td>NaN</td>\n",
       "      <td>NaN</td>\n",
       "      <td>c_7584</td>\n",
       "      <td>NaN</td>\n",
       "      <td>NaN</td>\n",
       "      <td>f</td>\n",
       "      <td>1960</td>\n",
       "    </tr>\n",
       "    <tr>\n",
       "      <th>679550</th>\n",
       "      <td>NaN</td>\n",
       "      <td>NaN</td>\n",
       "      <td>NaN</td>\n",
       "      <td>c_90</td>\n",
       "      <td>NaN</td>\n",
       "      <td>NaN</td>\n",
       "      <td>m</td>\n",
       "      <td>2001</td>\n",
       "    </tr>\n",
       "    <tr>\n",
       "      <th>679551</th>\n",
       "      <td>NaN</td>\n",
       "      <td>NaN</td>\n",
       "      <td>NaN</td>\n",
       "      <td>c_587</td>\n",
       "      <td>NaN</td>\n",
       "      <td>NaN</td>\n",
       "      <td>m</td>\n",
       "      <td>1993</td>\n",
       "    </tr>\n",
       "    <tr>\n",
       "      <th>679552</th>\n",
       "      <td>NaN</td>\n",
       "      <td>NaN</td>\n",
       "      <td>NaN</td>\n",
       "      <td>c_3526</td>\n",
       "      <td>NaN</td>\n",
       "      <td>NaN</td>\n",
       "      <td>m</td>\n",
       "      <td>1956</td>\n",
       "    </tr>\n",
       "  </tbody>\n",
       "</table>\n",
       "</div>"
      ],
      "text/plain": [
       "       id_prod date session_id client_id  price  categ sex  birth\n",
       "679532     NaN  NaN        NaN    c_8253    NaN    NaN   f   2001\n",
       "679533     NaN  NaN        NaN    c_3789    NaN    NaN   f   1997\n",
       "679534     NaN  NaN        NaN    c_4406    NaN    NaN   f   1998\n",
       "679535     NaN  NaN        NaN    c_2706    NaN    NaN   f   1967\n",
       "679536     NaN  NaN        NaN    c_3443    NaN    NaN   m   1959\n",
       "679537     NaN  NaN        NaN    c_4447    NaN    NaN   m   1956\n",
       "679538     NaN  NaN        NaN    c_3017    NaN    NaN   f   1992\n",
       "679539     NaN  NaN        NaN    c_4086    NaN    NaN   f   1992\n",
       "679540     NaN  NaN        NaN    c_6930    NaN    NaN   m   2004\n",
       "679541     NaN  NaN        NaN    c_4358    NaN    NaN   m   1999\n",
       "679542     NaN  NaN        NaN    c_8381    NaN    NaN   f   1965\n",
       "679543     NaN  NaN        NaN    c_1223    NaN    NaN   m   1963\n",
       "679544     NaN  NaN        NaN    c_6862    NaN    NaN   f   2002\n",
       "679545     NaN  NaN        NaN    c_5245    NaN    NaN   f   2004\n",
       "679546     NaN  NaN        NaN    c_5223    NaN    NaN   m   2003\n",
       "679547     NaN  NaN        NaN    c_6735    NaN    NaN   m   2004\n",
       "679548     NaN  NaN        NaN     c_862    NaN    NaN   f   1956\n",
       "679549     NaN  NaN        NaN    c_7584    NaN    NaN   f   1960\n",
       "679550     NaN  NaN        NaN      c_90    NaN    NaN   m   2001\n",
       "679551     NaN  NaN        NaN     c_587    NaN    NaN   m   1993\n",
       "679552     NaN  NaN        NaN    c_3526    NaN    NaN   m   1956"
      ]
     },
     "execution_count": 73,
     "metadata": {},
     "output_type": "execute_result"
    }
   ],
   "source": [
    "# Vérifier si des clients n'ont fait aucun achat\n",
    "\n",
    "df_final[(df_final[\"date\"].isnull()) & (~df_final.sex.isnull())]"
   ]
  },
  {
   "cell_type": "markdown",
   "id": "2d8e4810",
   "metadata": {},
   "source": [
    "# 2 Analyse globale du CA"
   ]
  },
  {
   "cell_type": "code",
   "execution_count": 74,
   "id": "c2a70655",
   "metadata": {},
   "outputs": [
    {
     "data": {
      "text/html": [
       "<div>\n",
       "<style scoped>\n",
       "    .dataframe tbody tr th:only-of-type {\n",
       "        vertical-align: middle;\n",
       "    }\n",
       "\n",
       "    .dataframe tbody tr th {\n",
       "        vertical-align: top;\n",
       "    }\n",
       "\n",
       "    .dataframe thead th {\n",
       "        text-align: right;\n",
       "    }\n",
       "</style>\n",
       "<table border=\"1\" class=\"dataframe\">\n",
       "  <thead>\n",
       "    <tr style=\"text-align: right;\">\n",
       "      <th></th>\n",
       "      <th>id_prod</th>\n",
       "      <th>date</th>\n",
       "      <th>session_id</th>\n",
       "      <th>client_id</th>\n",
       "      <th>price</th>\n",
       "      <th>categ</th>\n",
       "      <th>sex</th>\n",
       "      <th>birth</th>\n",
       "    </tr>\n",
       "  </thead>\n",
       "  <tbody>\n",
       "    <tr>\n",
       "      <th>0</th>\n",
       "      <td>0_1518</td>\n",
       "      <td>2022-05-20 13:21:29.043970</td>\n",
       "      <td>s_211425</td>\n",
       "      <td>c_103</td>\n",
       "      <td>4.18</td>\n",
       "      <td>0.0</td>\n",
       "      <td>f</td>\n",
       "      <td>1986</td>\n",
       "    </tr>\n",
       "    <tr>\n",
       "      <th>1</th>\n",
       "      <td>0_1518</td>\n",
       "      <td>2021-07-20 13:21:29.043970</td>\n",
       "      <td>s_64849</td>\n",
       "      <td>c_103</td>\n",
       "      <td>4.18</td>\n",
       "      <td>0.0</td>\n",
       "      <td>f</td>\n",
       "      <td>1986</td>\n",
       "    </tr>\n",
       "    <tr>\n",
       "      <th>2</th>\n",
       "      <td>0_1518</td>\n",
       "      <td>2022-08-20 13:21:29.043970</td>\n",
       "      <td>s_255965</td>\n",
       "      <td>c_103</td>\n",
       "      <td>4.18</td>\n",
       "      <td>0.0</td>\n",
       "      <td>f</td>\n",
       "      <td>1986</td>\n",
       "    </tr>\n",
       "    <tr>\n",
       "      <th>3</th>\n",
       "      <td>0_1418</td>\n",
       "      <td>2022-06-18 01:49:37.823274</td>\n",
       "      <td>s_225411</td>\n",
       "      <td>c_103</td>\n",
       "      <td>8.57</td>\n",
       "      <td>0.0</td>\n",
       "      <td>f</td>\n",
       "      <td>1986</td>\n",
       "    </tr>\n",
       "    <tr>\n",
       "      <th>4</th>\n",
       "      <td>0_1418</td>\n",
       "      <td>2021-08-18 01:49:37.823274</td>\n",
       "      <td>s_77214</td>\n",
       "      <td>c_103</td>\n",
       "      <td>8.57</td>\n",
       "      <td>0.0</td>\n",
       "      <td>f</td>\n",
       "      <td>1986</td>\n",
       "    </tr>\n",
       "  </tbody>\n",
       "</table>\n",
       "</div>"
      ],
      "text/plain": [
       "  id_prod                        date session_id client_id  price  categ sex  \\\n",
       "0  0_1518  2022-05-20 13:21:29.043970   s_211425     c_103   4.18    0.0   f   \n",
       "1  0_1518  2021-07-20 13:21:29.043970    s_64849     c_103   4.18    0.0   f   \n",
       "2  0_1518  2022-08-20 13:21:29.043970   s_255965     c_103   4.18    0.0   f   \n",
       "3  0_1418  2022-06-18 01:49:37.823274   s_225411     c_103   8.57    0.0   f   \n",
       "4  0_1418  2021-08-18 01:49:37.823274    s_77214     c_103   8.57    0.0   f   \n",
       "\n",
       "   birth  \n",
       "0   1986  \n",
       "1   1986  \n",
       "2   1986  \n",
       "3   1986  \n",
       "4   1986  "
      ]
     },
     "execution_count": 74,
     "metadata": {},
     "output_type": "execute_result"
    }
   ],
   "source": [
    "df_final.head()"
   ]
  },
  {
   "cell_type": "code",
   "execution_count": 75,
   "id": "27ca3f33",
   "metadata": {},
   "outputs": [
    {
     "data": {
      "text/plain": [
       "11856114.38"
      ]
     },
     "execution_count": 75,
     "metadata": {},
     "output_type": "execute_result"
    }
   ],
   "source": [
    "# calculer le CA total\n",
    "\n",
    "df_final.price.sum()"
   ]
  },
  {
   "cell_type": "markdown",
   "id": "1692706d",
   "metadata": {},
   "source": [
    "## 2.1 Traitement de la date"
   ]
  },
  {
   "cell_type": "markdown",
   "id": "5436fe1a",
   "metadata": {},
   "source": [
    "On aimerait pouvoir faire des analyses du CA par an, par mois, par jour de la semaine, par catégorie de produit.\n",
    "On s'occupera des analyses des usages de clients dans le chapitre 3 "
   ]
  },
  {
   "cell_type": "markdown",
   "id": "ffae5f8f",
   "metadata": {},
   "source": [
    "On a besoin de traiter la date pour pouvoir faire ces analyses. \n",
    "On va créer des nouvelles colonnes à parti de ce champ"
   ]
  },
  {
   "cell_type": "code",
   "execution_count": 85,
   "id": "9e20202d",
   "metadata": {},
   "outputs": [
    {
     "name": "stderr",
     "output_type": "stream",
     "text": [
      "C:\\Users\\ECO303381\\AppData\\Local\\Temp\\ipykernel_8996\\3848414437.py:2: SettingWithCopyWarning: \n",
      "A value is trying to be set on a copy of a slice from a DataFrame.\n",
      "Try using .loc[row_indexer,col_indexer] = value instead\n",
      "\n",
      "See the caveats in the documentation: https://pandas.pydata.org/pandas-docs/stable/user_guide/indexing.html#returning-a-view-versus-a-copy\n",
      "  df_final['date'] = df_final['date'].apply(lambda x: str(x).replace(\"test_\",\"\"))\n"
     ]
    }
   ],
   "source": [
    "# Modification du type de ma colonne date\n",
    "df_final['date'] = df_final['date'].apply(lambda x: str(x).replace(\"test_\",\"\"))\n",
    "df_final = df_final[~df_final[\"date\"].isna()]\n",
    "\n",
    "df_final['date'] = pd.to_datetime(df_final['date'])"
   ]
  },
  {
   "cell_type": "code",
   "execution_count": 86,
   "id": "c8551c18",
   "metadata": {},
   "outputs": [],
   "source": [
    "df_final['année'] = df_final['date'].dt.year"
   ]
  },
  {
   "cell_type": "code",
   "execution_count": 87,
   "id": "7e3d761c",
   "metadata": {},
   "outputs": [
    {
     "data": {
      "text/html": [
       "<div>\n",
       "<style scoped>\n",
       "    .dataframe tbody tr th:only-of-type {\n",
       "        vertical-align: middle;\n",
       "    }\n",
       "\n",
       "    .dataframe tbody tr th {\n",
       "        vertical-align: top;\n",
       "    }\n",
       "\n",
       "    .dataframe thead th {\n",
       "        text-align: right;\n",
       "    }\n",
       "</style>\n",
       "<table border=\"1\" class=\"dataframe\">\n",
       "  <thead>\n",
       "    <tr style=\"text-align: right;\">\n",
       "      <th></th>\n",
       "      <th>id_prod</th>\n",
       "      <th>date</th>\n",
       "      <th>session_id</th>\n",
       "      <th>client_id</th>\n",
       "      <th>price</th>\n",
       "      <th>categ</th>\n",
       "      <th>sex</th>\n",
       "      <th>birth</th>\n",
       "      <th>année</th>\n",
       "    </tr>\n",
       "  </thead>\n",
       "  <tbody>\n",
       "    <tr>\n",
       "      <th>0</th>\n",
       "      <td>0_1518</td>\n",
       "      <td>2022-05-20 13:21:29.043970</td>\n",
       "      <td>s_211425</td>\n",
       "      <td>c_103</td>\n",
       "      <td>4.18</td>\n",
       "      <td>0.0</td>\n",
       "      <td>f</td>\n",
       "      <td>1986</td>\n",
       "      <td>2022</td>\n",
       "    </tr>\n",
       "    <tr>\n",
       "      <th>1</th>\n",
       "      <td>0_1518</td>\n",
       "      <td>2021-07-20 13:21:29.043970</td>\n",
       "      <td>s_64849</td>\n",
       "      <td>c_103</td>\n",
       "      <td>4.18</td>\n",
       "      <td>0.0</td>\n",
       "      <td>f</td>\n",
       "      <td>1986</td>\n",
       "      <td>2021</td>\n",
       "    </tr>\n",
       "    <tr>\n",
       "      <th>2</th>\n",
       "      <td>0_1518</td>\n",
       "      <td>2022-08-20 13:21:29.043970</td>\n",
       "      <td>s_255965</td>\n",
       "      <td>c_103</td>\n",
       "      <td>4.18</td>\n",
       "      <td>0.0</td>\n",
       "      <td>f</td>\n",
       "      <td>1986</td>\n",
       "      <td>2022</td>\n",
       "    </tr>\n",
       "    <tr>\n",
       "      <th>3</th>\n",
       "      <td>0_1418</td>\n",
       "      <td>2022-06-18 01:49:37.823274</td>\n",
       "      <td>s_225411</td>\n",
       "      <td>c_103</td>\n",
       "      <td>8.57</td>\n",
       "      <td>0.0</td>\n",
       "      <td>f</td>\n",
       "      <td>1986</td>\n",
       "      <td>2022</td>\n",
       "    </tr>\n",
       "    <tr>\n",
       "      <th>4</th>\n",
       "      <td>0_1418</td>\n",
       "      <td>2021-08-18 01:49:37.823274</td>\n",
       "      <td>s_77214</td>\n",
       "      <td>c_103</td>\n",
       "      <td>8.57</td>\n",
       "      <td>0.0</td>\n",
       "      <td>f</td>\n",
       "      <td>1986</td>\n",
       "      <td>2021</td>\n",
       "    </tr>\n",
       "  </tbody>\n",
       "</table>\n",
       "</div>"
      ],
      "text/plain": [
       "  id_prod                       date session_id client_id  price  categ sex  \\\n",
       "0  0_1518 2022-05-20 13:21:29.043970   s_211425     c_103   4.18    0.0   f   \n",
       "1  0_1518 2021-07-20 13:21:29.043970    s_64849     c_103   4.18    0.0   f   \n",
       "2  0_1518 2022-08-20 13:21:29.043970   s_255965     c_103   4.18    0.0   f   \n",
       "3  0_1418 2022-06-18 01:49:37.823274   s_225411     c_103   8.57    0.0   f   \n",
       "4  0_1418 2021-08-18 01:49:37.823274    s_77214     c_103   8.57    0.0   f   \n",
       "\n",
       "   birth  année  \n",
       "0   1986   2022  \n",
       "1   1986   2021  \n",
       "2   1986   2022  \n",
       "3   1986   2022  \n",
       "4   1986   2021  "
      ]
     },
     "execution_count": 87,
     "metadata": {},
     "output_type": "execute_result"
    }
   ],
   "source": [
    "df_final.head()"
   ]
  },
  {
   "cell_type": "markdown",
   "id": "b0323c85",
   "metadata": {},
   "source": [
    "En vous inspirant de ce qu'on vient de faire, créer :\n",
    "\n",
    "    un champ mois\n",
    "\n",
    "    un champ jour du mois\n",
    "\n",
    "    un champ jour de la semaine\n"
   ]
  },
  {
   "cell_type": "code",
   "execution_count": 91,
   "id": "c482d5f3",
   "metadata": {
    "scrolled": true
   },
   "outputs": [
    {
     "data": {
      "text/html": [
       "<div>\n",
       "<style scoped>\n",
       "    .dataframe tbody tr th:only-of-type {\n",
       "        vertical-align: middle;\n",
       "    }\n",
       "\n",
       "    .dataframe tbody tr th {\n",
       "        vertical-align: top;\n",
       "    }\n",
       "\n",
       "    .dataframe thead th {\n",
       "        text-align: right;\n",
       "    }\n",
       "</style>\n",
       "<table border=\"1\" class=\"dataframe\">\n",
       "  <thead>\n",
       "    <tr style=\"text-align: right;\">\n",
       "      <th></th>\n",
       "      <th>id_prod</th>\n",
       "      <th>date</th>\n",
       "      <th>session_id</th>\n",
       "      <th>client_id</th>\n",
       "      <th>price</th>\n",
       "      <th>categ</th>\n",
       "      <th>sex</th>\n",
       "      <th>birth</th>\n",
       "      <th>année</th>\n",
       "      <th>mois</th>\n",
       "      <th>day_of_month</th>\n",
       "      <th>day_of_week</th>\n",
       "    </tr>\n",
       "  </thead>\n",
       "  <tbody>\n",
       "    <tr>\n",
       "      <th>0</th>\n",
       "      <td>0_1518</td>\n",
       "      <td>2022-05-20 13:21:29.043970</td>\n",
       "      <td>s_211425</td>\n",
       "      <td>c_103</td>\n",
       "      <td>4.18</td>\n",
       "      <td>0.0</td>\n",
       "      <td>f</td>\n",
       "      <td>1986</td>\n",
       "      <td>2022</td>\n",
       "      <td>5</td>\n",
       "      <td>20</td>\n",
       "      <td>4</td>\n",
       "    </tr>\n",
       "    <tr>\n",
       "      <th>1</th>\n",
       "      <td>0_1518</td>\n",
       "      <td>2021-07-20 13:21:29.043970</td>\n",
       "      <td>s_64849</td>\n",
       "      <td>c_103</td>\n",
       "      <td>4.18</td>\n",
       "      <td>0.0</td>\n",
       "      <td>f</td>\n",
       "      <td>1986</td>\n",
       "      <td>2021</td>\n",
       "      <td>7</td>\n",
       "      <td>20</td>\n",
       "      <td>1</td>\n",
       "    </tr>\n",
       "    <tr>\n",
       "      <th>2</th>\n",
       "      <td>0_1518</td>\n",
       "      <td>2022-08-20 13:21:29.043970</td>\n",
       "      <td>s_255965</td>\n",
       "      <td>c_103</td>\n",
       "      <td>4.18</td>\n",
       "      <td>0.0</td>\n",
       "      <td>f</td>\n",
       "      <td>1986</td>\n",
       "      <td>2022</td>\n",
       "      <td>8</td>\n",
       "      <td>20</td>\n",
       "      <td>5</td>\n",
       "    </tr>\n",
       "    <tr>\n",
       "      <th>3</th>\n",
       "      <td>0_1418</td>\n",
       "      <td>2022-06-18 01:49:37.823274</td>\n",
       "      <td>s_225411</td>\n",
       "      <td>c_103</td>\n",
       "      <td>8.57</td>\n",
       "      <td>0.0</td>\n",
       "      <td>f</td>\n",
       "      <td>1986</td>\n",
       "      <td>2022</td>\n",
       "      <td>6</td>\n",
       "      <td>18</td>\n",
       "      <td>5</td>\n",
       "    </tr>\n",
       "    <tr>\n",
       "      <th>4</th>\n",
       "      <td>0_1418</td>\n",
       "      <td>2021-08-18 01:49:37.823274</td>\n",
       "      <td>s_77214</td>\n",
       "      <td>c_103</td>\n",
       "      <td>8.57</td>\n",
       "      <td>0.0</td>\n",
       "      <td>f</td>\n",
       "      <td>1986</td>\n",
       "      <td>2021</td>\n",
       "      <td>8</td>\n",
       "      <td>18</td>\n",
       "      <td>2</td>\n",
       "    </tr>\n",
       "  </tbody>\n",
       "</table>\n",
       "</div>"
      ],
      "text/plain": [
       "  id_prod                       date session_id client_id  price  categ sex  \\\n",
       "0  0_1518 2022-05-20 13:21:29.043970   s_211425     c_103   4.18    0.0   f   \n",
       "1  0_1518 2021-07-20 13:21:29.043970    s_64849     c_103   4.18    0.0   f   \n",
       "2  0_1518 2022-08-20 13:21:29.043970   s_255965     c_103   4.18    0.0   f   \n",
       "3  0_1418 2022-06-18 01:49:37.823274   s_225411     c_103   8.57    0.0   f   \n",
       "4  0_1418 2021-08-18 01:49:37.823274    s_77214     c_103   8.57    0.0   f   \n",
       "\n",
       "   birth  année  mois day_of_month  day_of_week  \n",
       "0   1986   2022     5           20            4  \n",
       "1   1986   2021     7           20            1  \n",
       "2   1986   2022     8           20            5  \n",
       "3   1986   2022     6           18            5  \n",
       "4   1986   2021     8           18            2  "
      ]
     },
     "execution_count": 91,
     "metadata": {},
     "output_type": "execute_result"
    }
   ],
   "source": [
    "# A vous de jouer\n",
    "\n",
    "df_final['mois'] = df_final['date'].dt.month\n",
    "df_final['day_of_month'] = df_final['date'].apply(lambda x : x.strftime(\"%d\"))\n",
    "df_final['day_of_week'] = df_final['date'].apply(lambda x : x.weekday())\n",
    "\n",
    "df_final.head()"
   ]
  },
  {
   "cell_type": "markdown",
   "id": "ed6f85eb",
   "metadata": {},
   "source": [
    "## 2.2 Analyse calendaire"
   ]
  },
  {
   "cell_type": "code",
   "execution_count": 92,
   "id": "8e4c8467",
   "metadata": {},
   "outputs": [
    {
     "data": {
      "text/plain": [
       "année\n",
       "2021    4771644.46\n",
       "2022    6110085.81\n",
       "2023     974384.11\n",
       "Name: price, dtype: float64"
      ]
     },
     "execution_count": 92,
     "metadata": {},
     "output_type": "execute_result"
    }
   ],
   "source": [
    "#Calcule du CA par année\n",
    "df_final.groupby(\"année\").price.sum()"
   ]
  },
  {
   "cell_type": "code",
   "execution_count": 93,
   "id": "45fb58bc",
   "metadata": {},
   "outputs": [
    {
     "data": {
      "text/plain": [
       "<AxesSubplot:title={'center':'CA par année'}, xlabel='année', ylabel='CA'>"
      ]
     },
     "execution_count": 93,
     "metadata": {},
     "output_type": "execute_result"
    },
    {
     "data": {
      "image/png": "[encoded data removed]",
      "text/plain": [
       "<Figure size 432x288 with 1 Axes>"
      ]
     },
     "metadata": {
      "needs_background": "light"
     },
     "output_type": "display_data"
    }
   ],
   "source": [
    "df_final.groupby(\"année\").price.sum().plot(kind = \"bar\", title=\"CA par année\",ylabel=\"CA\")"
   ]
  },
  {
   "cell_type": "markdown",
   "id": "8568bd6d",
   "metadata": {},
   "source": [
    "En vous inspirant de ce qu'on vient de faire :\n",
    "\n",
    "- Etudier le CA par mois. Qu'observons nous ? \n",
    "\n",
    "- Est-ce qu'il y a un effet fin de mois ? ou début de mois ?\n",
    "\n",
    "- Est-ce qu'il y a un effet WE? \n",
    "\n",
    "\n",
    "\n"
   ]
  },
  {
   "cell_type": "code",
   "execution_count": 57,
   "id": "1995688e",
   "metadata": {},
   "outputs": [],
   "source": [
    "# A vous de jouer\n",
    "\n"
   ]
  },
  {
   "cell_type": "markdown",
   "id": "802f9062",
   "metadata": {},
   "source": [
    "## 2.3 Analyse par catégorie\n",
    "\n"
   ]
  },
  {
   "cell_type": "code",
   "execution_count": 60,
   "id": "be25f068",
   "metadata": {},
   "outputs": [],
   "source": [
    "# reprendre le travail ci-dessous et le détailler par categorie\n",
    "\n",
    "\n"
   ]
  },
  {
   "cell_type": "code",
   "execution_count": null,
   "id": "e4306f96",
   "metadata": {},
   "outputs": [],
   "source": []
  },
  {
   "cell_type": "markdown",
   "id": "44bfa6b8",
   "metadata": {},
   "source": [
    "# 3 Analyse des usages des clients"
   ]
  },
  {
   "cell_type": "markdown",
   "id": "3f4b4b8b",
   "metadata": {},
   "source": [
    "## 3.1 Traitement de l'âge "
   ]
  },
  {
   "cell_type": "code",
   "execution_count": null,
   "id": "4d447621",
   "metadata": {},
   "outputs": [],
   "source": [
    "#créons  une colonne âge\n",
    "df_final['Age'] = 2022 - df_final['birth']"
   ]
  },
  {
   "cell_type": "code",
   "execution_count": null,
   "id": "115249de",
   "metadata": {},
   "outputs": [],
   "source": [
    "df_final.groupby(\"client_id\").mean().Age.hist(bins=40)\n",
    "\n",
    "plt.title(\"Répartition des clients par âge\")\n",
    "\n",
    "plt.xlabel(\"Age\")\n",
    "\n",
    "plt.ylabel(\"Nombre de clients\")"
   ]
  },
  {
   "cell_type": "markdown",
   "id": "77992732",
   "metadata": {},
   "source": [
    "Pour analyser les usages liés à l'âge, il est souvent plus pertinent de faire des tranches d'âge\n",
    "\n"
   ]
  },
  {
   "cell_type": "code",
   "execution_count": null,
   "id": "2085d6ad",
   "metadata": {},
   "outputs": [],
   "source": [
    "# On va créer 14 intervalles d'âges :\n",
    "\n",
    "labels = ['19-24','25-29','30-35','36-40','41-45','46-51','52-56','57-61','62-67','68-72','73-77','78-83','84-88','89-94']\n",
    "\n",
    "\n",
    "df_final['Age_tranche']= pd.cut(df_final['Age'], 14,labels=labels)"
   ]
  },
  {
   "cell_type": "markdown",
   "id": "8de28973",
   "metadata": {},
   "source": [
    "## 3.2 Analyse du chiffre d'affaires par client"
   ]
  },
  {
   "cell_type": "code",
   "execution_count": null,
   "id": "644b1b49",
   "metadata": {},
   "outputs": [],
   "source": [
    "# le nombre de clients uniques\n",
    "df_final.client_id.value_counts().shape"
   ]
  },
  {
   "cell_type": "code",
   "execution_count": null,
   "id": "7f9b0d4b",
   "metadata": {},
   "outputs": [],
   "source": [
    "# on regroupe mes données par client_id et on calcul le montant de leurs achats.\n",
    "df_client = df_final.groupby('client_id')[['price']].sum();\n",
    "df_client.head()"
   ]
  },
  {
   "cell_type": "markdown",
   "id": "258db4eb",
   "metadata": {},
   "source": [
    "Analyser le chiffre d'affaires par client : \n",
    "\n",
    "- est ce qu'il y a des outliers ? \n",
    "- si oui, quelle part du CA ils représentent ?\n",
    "- que peut-on supposer à leur sujet ? Comment les traiter dans notre analyse \n",
    "- étudier la distribution du CA par client en dehors de ces clients"
   ]
  },
  {
   "cell_type": "code",
   "execution_count": 68,
   "id": "8d0118b0",
   "metadata": {},
   "outputs": [],
   "source": [
    "# A vous de jouer\n",
    "\n"
   ]
  },
  {
   "cell_type": "markdown",
   "id": "34e4c559",
   "metadata": {},
   "source": [
    "## 3.3 Analyse des usages d'achat liés au sexe"
   ]
  },
  {
   "cell_type": "markdown",
   "id": "db3b9bf0",
   "metadata": {},
   "source": [
    "### 3.3.1 Calculer le CA par sexe"
   ]
  },
  {
   "cell_type": "code",
   "execution_count": 69,
   "id": "d0395d00",
   "metadata": {},
   "outputs": [],
   "source": [
    "# A vous de jouer"
   ]
  },
  {
   "cell_type": "markdown",
   "id": "1ee545de",
   "metadata": {},
   "source": [
    "### 3.3.2 Corrélation : Sexe et Catégorie"
   ]
  },
  {
   "cell_type": "markdown",
   "id": "b1cdc6ce",
   "metadata": {},
   "source": [
    "Les deux variables sont qualitatives.\n",
    "On va réaliser le test du Khi² pour vérifier si ces deux variables sont liées."
   ]
  },
  {
   "cell_type": "code",
   "execution_count": null,
   "id": "ce99bf7a",
   "metadata": {},
   "outputs": [],
   "source": [
    "# Création de ma table de contingence\n",
    "X = \"sex\"\n",
    "Y = \"categ\"\n",
    "\n",
    "cont_1 = df_final[[X,Y]].pivot_table(index=X,columns=Y,aggfunc=len,margins=True,margins_name=\"Total\")\n",
    "cont_1"
   ]
  },
  {
   "cell_type": "code",
   "execution_count": null,
   "id": "9b8110e2",
   "metadata": {},
   "outputs": [],
   "source": [
    "# Regardons la distibution si les variables étaient complétement independantes\n",
    "\n",
    "tx = cont_1.loc[:,[\"Total\"]]\n",
    "ty = cont_1.loc[[\"Total\"],:]\n",
    "n = len(df_final)\n",
    "indep = round(tx.dot(ty) / n)"
   ]
  },
  {
   "cell_type": "code",
   "execution_count": null,
   "id": "dae27389",
   "metadata": {},
   "outputs": [],
   "source": [
    "# regardons où l'écart est le plus important\n",
    "(cont_1 - indep)/indep"
   ]
  },
  {
   "cell_type": "code",
   "execution_count": null,
   "id": "94f132e3",
   "metadata": {},
   "outputs": [],
   "source": [
    "# importons le module chi2_contingency de la librairie scipy pour faire un chi2\n",
    "from scipy.stats import chi2_contingency as chi2_contingency"
   ]
  },
  {
   "cell_type": "code",
   "execution_count": null,
   "id": "7168b5fd",
   "metadata": {},
   "outputs": [],
   "source": [
    "chi2, p = chi2_contingency(cont_1)"
   ]
  },
  {
   "cell_type": "code",
   "execution_count": null,
   "id": "a3a575c6",
   "metadata": {},
   "outputs": [],
   "source": [
    "chi2"
   ]
  },
  {
   "cell_type": "markdown",
   "id": "30bc5b10",
   "metadata": {},
   "source": [
    "Avec une p-value inférieure à 0.05% on peut rejeter l'hypothèse 0 d'indépendance."
   ]
  },
  {
   "cell_type": "code",
   "execution_count": null,
   "id": "6ea37319",
   "metadata": {},
   "outputs": [],
   "source": [
    "import seaborn as sns\n",
    "\n",
    "\n",
    "c = cont_1.fillna(0) # On remplace les valeurs nulles par 0\n",
    "measure = (c-indep)**2/indep\n",
    "xi_n = measure.sum().sum()\n",
    "table = measure/xi_n\n",
    "sns.heatmap(table.iloc[:-1,:-1],annot=c.iloc[:-1,:-1])\n",
    "plt.title('Matrice de corrélation entre le sexe et la catégorie de produit')\n",
    "plt.show()"
   ]
  },
  {
   "cell_type": "markdown",
   "id": "1e8d09b4",
   "metadata": {},
   "source": [
    "On remarque une forte corrélation entre les hommes et la catégorie 1."
   ]
  },
  {
   "cell_type": "markdown",
   "id": "12ac1cc8",
   "metadata": {},
   "source": [
    "### 3.3.3 Test de corrélation : sexe et nombre d'achats"
   ]
  },
  {
   "cell_type": "code",
   "execution_count": null,
   "id": "81c6e003",
   "metadata": {},
   "outputs": [],
   "source": [
    "nb_achats = df_final.groupby([\"client_id\",\"sex\"],as_index=False)[[\"session_id\"]].count()"
   ]
  },
  {
   "cell_type": "code",
   "execution_count": null,
   "id": "f1fa8cb8",
   "metadata": {},
   "outputs": [],
   "source": [
    "nb_achats[['sex','session_id']].hist(by='sex',alpha = 0.5, bins = 50, sharex=True)"
   ]
  },
  {
   "cell_type": "code",
   "execution_count": null,
   "id": "bd3face1",
   "metadata": {},
   "outputs": [],
   "source": [
    "import statsmodels.api as sm\n",
    "from statsmodels.formula.api import ols"
   ]
  },
  {
   "cell_type": "code",
   "execution_count": null,
   "id": "25473d14",
   "metadata": {},
   "outputs": [],
   "source": [
    "lm = ols('session_id ~ sex', data = nb_achats).fit()\n",
    "import statsmodels.api; \n",
    "table = sm.stats.anova_lm(lm)"
   ]
  },
  {
   "cell_type": "code",
   "execution_count": null,
   "id": "932957b6",
   "metadata": {},
   "outputs": [],
   "source": [
    "table"
   ]
  },
  {
   "cell_type": "code",
   "execution_count": null,
   "id": "8cc10d03",
   "metadata": {},
   "outputs": [],
   "source": [
    "lm.summary()"
   ]
  },
  {
   "cell_type": "markdown",
   "id": "ba002617",
   "metadata": {},
   "source": [
    "## 3.4 Analyse des usages d'achat liés à l'âge¶"
   ]
  },
  {
   "cell_type": "markdown",
   "id": "19a450b0",
   "metadata": {},
   "source": [
    "### 3.4.1 Corrélation âge et CA"
   ]
  },
  {
   "cell_type": "markdown",
   "id": "ac28bb40",
   "metadata": {},
   "source": [
    "On peut considérer l'âge comme une variable quantitative. Le CA l'est aussi. "
   ]
  },
  {
   "cell_type": "code",
   "execution_count": null,
   "id": "b17611ad",
   "metadata": {},
   "outputs": [],
   "source": [
    "df_age_ca = df_final[['Age','price']]"
   ]
  },
  {
   "cell_type": "code",
   "execution_count": null,
   "id": "18dc8bb9",
   "metadata": {},
   "outputs": [],
   "source": [
    "df_age_ca = df_age_ca.groupby('Age').agg({'price':'sum'}).reset_index()"
   ]
  },
  {
   "cell_type": "code",
   "execution_count": null,
   "id": "4ba96179",
   "metadata": {},
   "outputs": [],
   "source": [
    "df_age_ca"
   ]
  },
  {
   "cell_type": "code",
   "execution_count": null,
   "id": "6acc2336",
   "metadata": {},
   "outputs": [],
   "source": [
    "import matplotlib.pyplot as plt\n",
    "\n",
    "plt.plot(df_age_ca[\"Age\"],df_age_ca[\"price\"],'o')\n",
    "plt.xlabel(\"Age\")\n",
    "plt.ylabel(\"ca\")\n",
    "plt.grid()\n",
    "plt.title('Répartition du CA par âge')\n",
    "plt.show()"
   ]
  },
  {
   "cell_type": "code",
   "execution_count": null,
   "id": "515f02b7",
   "metadata": {},
   "outputs": [],
   "source": [
    "#corrélation de pearson \n",
    "df_age_ca.corr()"
   ]
  },
  {
   "cell_type": "code",
   "execution_count": null,
   "id": "f4ff217d",
   "metadata": {},
   "outputs": [],
   "source": [
    "#test sperman\n",
    "from scipy import stats\n",
    "from scipy.stats import spearmanr"
   ]
  },
  {
   "cell_type": "code",
   "execution_count": null,
   "id": "369b0cf2",
   "metadata": {},
   "outputs": [],
   "source": [
    "stats.spearmanr(df_age_ca['Age'],df_age_ca['price'])"
   ]
  },
  {
   "cell_type": "code",
   "execution_count": null,
   "id": "7daa2ff8",
   "metadata": {},
   "outputs": [],
   "source": [
    "df_age_ca.corr( method = \"spearman\")"
   ]
  },
  {
   "cell_type": "markdown",
   "id": "141a5cad",
   "metadata": {},
   "source": [
    "### 3.4.2 corrélation tranche d'âge et catégorie de produit"
   ]
  },
  {
   "cell_type": "code",
   "execution_count": 80,
   "id": "f537606d",
   "metadata": {},
   "outputs": [],
   "source": [
    "#A vous de jouer "
   ]
  },
  {
   "cell_type": "markdown",
   "id": "2df931b4",
   "metadata": {},
   "source": [
    "### 3.4.3 corrélation tranche d'âge et fréquence d'achat"
   ]
  },
  {
   "cell_type": "code",
   "execution_count": null,
   "id": "1e182772",
   "metadata": {},
   "outputs": [],
   "source": []
  },
  {
   "cell_type": "markdown",
   "id": "bb9d5049",
   "metadata": {},
   "source": [
    "### 3.4.4 corrélation tranche d'âge et Panier moyen"
   ]
  },
  {
   "cell_type": "markdown",
   "id": "8512d262",
   "metadata": {},
   "source": [
    "# 4 synthèse"
   ]
  },
  {
   "cell_type": "code",
   "execution_count": null,
   "id": "1bb29524",
   "metadata": {},
   "outputs": [],
   "source": []
  }
 ],
 "metadata": {
  "kernelspec": {
   "display_name": "Python 3 (ipykernel)",
   "language": "python",
   "name": "python3"
  },
  "language_info": {
   "codemirror_mode": {
    "name": "ipython",
    "version": 3
   },
   "file_extension": ".py",
   "mimetype": "text/x-python",
   "name": "python",
   "nbconvert_exporter": "python",
   "pygments_lexer": "ipython3",
   "version": "3.9.12"
  }
 },
 "nbformat": 4,
 "nbformat_minor": 5
}
